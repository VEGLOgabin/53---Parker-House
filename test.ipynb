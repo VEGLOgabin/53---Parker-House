{
 "cells": [
  {
   "cell_type": "code",
   "execution_count": 77,
   "metadata": {},
   "outputs": [],
   "source": [
    "from bs4 import BeautifulSoup\n",
    "import requests\n",
    "import re"
   ]
  },
  {
   "cell_type": "code",
   "execution_count": 90,
   "metadata": {},
   "outputs": [],
   "source": [
    "\n",
    "url =  \"https://parker-house.com/collections/tv-consoles/products/asc-90-2-dch-set\""
   ]
  },
  {
   "cell_type": "markdown",
   "metadata": {},
   "source": []
  },
  {
   "cell_type": "code",
   "execution_count": 91,
   "metadata": {},
   "outputs": [],
   "source": [
    "# req = requests.get(\"https://parker-house.com/collections/tv-consoles?page=1\")\n",
    "req = requests.get(url)\n",
    "# req = requests.get(\"https://parker-house.com/\")"
   ]
  },
  {
   "cell_type": "code",
   "execution_count": 20,
   "metadata": {},
   "outputs": [
    {
     "data": {
      "text/plain": [
       "200"
      ]
     },
     "execution_count": 20,
     "metadata": {},
     "output_type": "execute_result"
    }
   ],
   "source": [
    "req.status_code"
   ]
  },
  {
   "cell_type": "code",
   "execution_count": 92,
   "metadata": {},
   "outputs": [],
   "source": [
    "\n",
    "soup = BeautifulSoup(req.content, \"html.parser\")"
   ]
  },
  {
   "cell_type": "code",
   "execution_count": 93,
   "metadata": {},
   "outputs": [
    {
     "name": "stdout",
     "output_type": "stream",
     "text": [
      "The Product SKU is: ASC#90-2-DCH-SET\n"
     ]
    }
   ],
   "source": [
    "\n",
    "\n",
    "sku = None\n",
    "try:\n",
    "    sku_element = soup.select_one('p.sku span[itemprop=\"sku\"]')\n",
    "    if sku_element:\n",
    "        sku = sku_element.text.strip()\n",
    "    if not sku:\n",
    "        sku_p_tag = None\n",
    "        for p_tag in soup.find_all(\"p\"):\n",
    "            if \"SKU:\" in p_tag.get_text():\n",
    "                sku_p_tag = p_tag\n",
    "                break\n",
    "        if sku_p_tag:\n",
    "            cleaned_text = re.sub(r\"<[^>]*>\", \" \", str(sku_p_tag))\n",
    "            cleaned_text = re.sub(r\"\\s+\", \" \", cleaned_text).strip()\n",
    "            match = re.search(r\"SKU:\\s*(\\S+)\", cleaned_text, flags=re.IGNORECASE)\n",
    "            if match:\n",
    "                sku = match.group(1).strip()\n",
    "    if not sku or sku == \"**\":\n",
    "        try:\n",
    "            sku = url.split(\"/\")[-1].upper().replace(\"-\", \"#\", 1)\n",
    "        except AttributeError:\n",
    "            sku = \"\"\n",
    "    if sku:\n",
    "        print(\"The Product SKU is:\", sku)\n",
    "    else:\n",
    "        print(\"SKU not found.\")\n",
    "except Exception as e:\n",
    "    print(\"An error occurred while extracting SKU:\", str(e))\n"
   ]
  },
  {
   "cell_type": "code",
   "execution_count": 36,
   "metadata": {},
   "outputs": [
    {
     "data": {
      "text/plain": [
       "'TV Consoles Page 2 - Parker House Furniture'"
      ]
     },
     "execution_count": 36,
     "metadata": {},
     "output_type": "execute_result"
    }
   ],
   "source": [
    "soup.title.text.strip()"
   ]
  },
  {
   "cell_type": "code",
   "execution_count": 31,
   "metadata": {},
   "outputs": [],
   "source": [
    "nav = soup.find(\"div\", class_ = \"nav\")"
   ]
  },
  {
   "cell_type": "code",
   "execution_count": 53,
   "metadata": {},
   "outputs": [],
   "source": [
    "\n",
    "direct_ul_children = nav.find_all(\"ul\", recursive=False)\n"
   ]
  },
  {
   "cell_type": "code",
   "execution_count": 55,
   "metadata": {},
   "outputs": [],
   "source": [
    "direct_li_children = direct_ul_children[1].find_all(\"li\", recursive=False)\n"
   ]
  },
  {
   "cell_type": "code",
   "execution_count": 56,
   "metadata": {},
   "outputs": [
    {
     "data": {
      "text/plain": [
       "6"
      ]
     },
     "execution_count": 56,
     "metadata": {},
     "output_type": "execute_result"
    }
   ],
   "source": [
    "len(direct_li_children)"
   ]
  },
  {
   "cell_type": "code",
   "execution_count": 63,
   "metadata": {},
   "outputs": [
    {
     "data": {
      "text/plain": [
       "<li><a class=\"top-link\" href=\"/collections\">Collections</a></li>"
      ]
     },
     "execution_count": 63,
     "metadata": {},
     "output_type": "execute_result"
    }
   ],
   "source": [
    "direct_li_children[5]"
   ]
  },
  {
   "cell_type": "code",
   "execution_count": 64,
   "metadata": {},
   "outputs": [
    {
     "name": "stdout",
     "output_type": "stream",
     "text": [
      "Living Room\n",
      "Upholstery\n",
      "Dining\n",
      "Office & Library\n",
      "Bedroom\n",
      "Collections\n"
     ]
    }
   ],
   "source": [
    "for category in direct_li_children:\n",
    "    category_name  = category.find(\"a\").text.strip()\n",
    "    print(category_name)\n",
    "    if category_name != \"Collections\":\n",
    "        \n"
   ]
  },
  {
   "cell_type": "markdown",
   "metadata": {},
   "source": [
    "## Web pages html Code saving for selectors checking"
   ]
  },
  {
   "cell_type": "code",
   "execution_count": 8,
   "metadata": {},
   "outputs": [],
   "source": [
    "# Saving the prettified HTML to a file\n",
    "with open(\"product-3.html\", \"w\", encoding=\"utf-8\") as file:\n",
    "    file.write(soup.prettify())"
   ]
  },
  {
   "cell_type": "markdown",
   "metadata": {},
   "source": [
    "## Nav Bar links scraping"
   ]
  },
  {
   "cell_type": "code",
   "execution_count": null,
   "metadata": {},
   "outputs": [],
   "source": [
    "import requests\n",
    "from bs4 import BeautifulSoup\n",
    "import csv\n",
    "\n",
    "def scrape_navbar_to_csv():\n",
    "        url = \"https://parker-house.com/\"\n",
    "        response = requests.get(url)\n",
    "        soup = BeautifulSoup(response.content, \"html.parser\")\n",
    "        nav = soup.find(\"div\", id=\"nav\")\n",
    "        direct_ul_children = nav.find(\"ul\")\n",
    "        direct_li_children = direct_ul_children.find_all(\"li\", recursive=False)\n",
    "        csv_file = \"utilities/category-collection.csv\"\n",
    "        with open(csv_file, mode=\"w\", newline=\"\", encoding=\"utf-8\") as file:\n",
    "            writer = csv.DictWriter(file, fieldnames=[\"category_name\", \"subcategory\", \"collection_name\", \"collection_link\"])\n",
    "            writer.writeheader()\n",
    "            for category_li in direct_li_children:\n",
    "                category_name = category_li.find(\"a\").text.strip()\n",
    "                print(f\"Category: {category_name}\")\n",
    "                subcategories_ul = category_li.find(\"ul\")\n",
    "                if subcategories_ul:\n",
    "                    categor = subcategories_ul.find_all(\"li\", recursive=False)\n",
    "                    for subcategory_li in categor:\n",
    "                        subcategory_name = subcategory_li.find(\"a\").text.strip()\n",
    "                        \n",
    "                        print(f\"  Subcategory: {subcategory_name}\")\n",
    "                        collections_ul = subcategory_li.find(\"ul\")\n",
    "                        if collections_ul:\n",
    "                            for collection_li in collections_ul.find_all(\"li\", recursive=False):\n",
    "                                collection_name = collection_li.find(\"a\").text.strip()\n",
    "                                collection_link = collection_li.find(\"a\")[\"href\"]\n",
    "                                print(f\"    Collection: {collection_name}\")\n",
    "                                if \"collections\" in subcategory_link and subcategory_name !=   \"Collections\":\n",
    "                                    writer.writerow({\n",
    "                                        \"category_name\": category_name,\n",
    "                                        \"subcategory\": subcategory_name,\n",
    "                                        \"collection_name\": collection_name.replace(\"-\", ''),\n",
    "                                        \"collection_link\": \"https://parker-house.com\" + collection_link\n",
    "                                    })\n",
    "                        else:\n",
    "                            subcategory_link = subcategory_li.find(\"a\")[\"href\"]\n",
    "\n",
    "                            if \"collections\" in subcategory_link and subcategory_name !=   \"Collections\":\n",
    "                                writer.writerow({\n",
    "                                    \"category_name\": category_name,\n",
    "                                    \"subcategory\": subcategory_name,\n",
    "                                    \"collection_name\": subcategory_name.replace(\"-\", ''),\n",
    "                                    \"collection_link\": \"https://parker-house.com\" + subcategory_link\n",
    "                                })\n",
    "                else:\n",
    "                    category_link = category_li.find(\"a\").get(\"href\")\n",
    "                    if \"collections\" in subcategory_link and subcategory_name !=   \"Collections\":\n",
    "                        writer.writerow({\n",
    "                            \"category_name\": category_name,\n",
    "                            \"subcategory\": category_name,\n",
    "                            \"collection_name\": category_name.replace(\"-\", ''),\n",
    "                            \"collection_link\": \"https://parker-house.com\" + category_link\n",
    "                        })\n",
    "\n",
    "        print(f\"Data has been saved to {csv_file}\")\n",
    "        "
   ]
  },
  {
   "cell_type": "code",
   "execution_count": null,
   "metadata": {},
   "outputs": [],
   "source": [
    "scrape_navbar_to_csv()\n"
   ]
  },
  {
   "cell_type": "code",
   "execution_count": null,
   "metadata": {},
   "outputs": [
    {
     "name": "stdout",
     "output_type": "stream",
     "text": [
      "Category: Living Room\n",
      "  Subcategory: Occasional Tables\n",
      "  Subcategory: Entertainment\n",
      "    Collection: - TV Consoles\n",
      "    Collection: - Entertainment Walls\n",
      "  Subcategory: Accents\n",
      "    Collection: -  Bookcases\n",
      "    Collection: -  Chairs\n",
      "    Collection: -  Consoles\n",
      "    Collection: -  Mirrors\n",
      "    Collection: - Pillows\n",
      "    Collection: -  Tables\n",
      "Category: Upholstery\n",
      "  Subcategory: Stationary\n",
      "    Collection: -Sofa Groups\n",
      "    Collection: -Modular Groups & Sectionals\n",
      "    Collection: -Accent Chairs\n",
      "    Collection: -Ottomans\n",
      "    Collection: -Pillows\n",
      "    Collection: -Swivel Chairs\n",
      "    Collection: -Swivel Chairs w/ Ottomans\n",
      "  Subcategory: Motion\n",
      "  Subcategory: ‎ Leather Reclining\n",
      "    Collection: -Recliners\n",
      "    Collection: -Sofas\n",
      "    Collection: -Loveseats\n",
      "    Collection: -Modular Groups\n",
      "  Subcategory: Fabric Reclining\n",
      "    Collection: -Recliners\n",
      "    Collection: -Sofas\n",
      "    Collection: -Loveseats\n",
      "    Collection: -Modular Groups\n",
      "  Subcategory: Cordless Recliners\n",
      "  Subcategory: Lift Chairs\n",
      "  Subcategory: Zero Gravity Recliners\n",
      "Category: Dining\n",
      "  Subcategory: Collections\n",
      "    Collection: Americana Modern\n",
      "    Collection: Cedar Fork\n",
      "    Collection: Crossings\n",
      "    Collection: Escape\n",
      "    Collection: Lodge\n",
      "    Collection: Pure Modern\n",
      "    Collection: Sundance\n",
      "  Subcategory: Category\n",
      "    Collection: Bars\n",
      "    Collection: Everywhere Consoles\n",
      "    Collection: Seating\n",
      "    Collection: Serving & Display\n",
      "    Collection: Tables\n",
      "Category: Office & Library\n",
      "  Subcategory: Desks & Credenzas\n",
      "    Collection: -  Executive Desks\n",
      "    Collection: -  Writing Desks\n",
      "    Collection: -  Motorized Sit/Stand Desks\n",
      "    Collection: -  Modular Desks\n",
      "    Collection: -  Workstations\n",
      "    Collection: -  Credenzas\n",
      "  Subcategory: Library Walls\n",
      "  Subcategory: Modular Home Office\n",
      "  Subcategory: Bookcases\n",
      "  Subcategory: File Cabinets\n",
      "  Subcategory: Office Chairs\n",
      "    Collection: -  Leather\n",
      "    Collection: -  Fabric\n",
      "Category: Bedroom\n",
      "  Subcategory: Americana Modern Bedroom\n",
      "  Subcategory: Escape Bedroom\n",
      "  Subcategory: Pure Modern Bedroom\n",
      "  Subcategory: Storage Benches\n",
      "  Subcategory: Upholstered Beds\n",
      "Category: Collections\n",
      "Category: Sign in\n",
      "Data has been saved to utilities/category-collection.csv\n"
     ]
    }
   ],
   "source": [
    "import requests\n",
    "from bs4 import BeautifulSoup\n",
    "import csv\n",
    "\n",
    "def scrape_navbar_to_csv():\n",
    "    url = \"https://parker-house.com/\"\n",
    "    response = requests.get(url)\n",
    "    soup = BeautifulSoup(response.content, \"html.parser\")\n",
    "\n",
    "    # Locate the navigation div\n",
    "    nav = soup.find(\"div\", id=\"nav\")\n",
    "    direct_ul_children = nav.find(\"ul\")\n",
    "    direct_li_children = direct_ul_children.find_all(\"li\", recursive=False)\n",
    "    \n",
    "    # Initialize the CSV file\n",
    "    csv_file = \"utilities/category-collection.csv\"\n",
    "    with open(csv_file, mode=\"w\", newline=\"\", encoding=\"utf-8\") as file:\n",
    "        # Initialize CSV writer with headers\n",
    "        writer = csv.DictWriter(file, fieldnames=[\"category_name\", \"subcategory\", \"collection_name\", \"collection_link\"])\n",
    "        writer.writeheader()\n",
    "\n",
    "        # Iterate through top-level categories\n",
    "        for category_li in direct_li_children:\n",
    "            category_name = category_li.find(\"a\").text.strip()\n",
    "            print(f\"Category: {category_name}\")\n",
    "\n",
    "            # Check for subcategories\n",
    "            subcategories_ul = category_li.find(\"ul\")\n",
    "            # print(subcategories_ul)\n",
    "            # print(\"*\"*30)\n",
    "            # break\n",
    "            if subcategories_ul:\n",
    "                categor = subcategories_ul.find_all(\"li\", recursive=False)\n",
    "                for subcategory_li in categor:\n",
    "                    subcategory_name = subcategory_li.find(\"a\").text.strip()\n",
    "                    \n",
    "                    print(f\"  Subcategory: {subcategory_name}\")\n",
    "\n",
    "                    # Check for collections under subcategories\n",
    "                    collections_ul = subcategory_li.find(\"ul\")\n",
    "                    if collections_ul:\n",
    "                        for collection_li in collections_ul.find_all(\"li\", recursive=False):\n",
    "                            collection_name = collection_li.find(\"a\").text.strip()\n",
    "                            collection_link = collection_li.find(\"a\")[\"href\"]\n",
    "                            print(f\"    Collection: {collection_name}\")\n",
    "                            if \"collections\" in subcategory_link and subcategory_name !=   \"Collections\":\n",
    "                                writer.writerow({\n",
    "                                    \"category_name\": category_name,\n",
    "                                    \"subcategory\": subcategory_name,\n",
    "                                    \"collection_name\": collection_name.replace(\"-\", ''),\n",
    "                                    \"collection_link\": \"https://parker-house.com\" + collection_link\n",
    "                                })\n",
    "                    else:\n",
    "                        # No collections, treat subcategory as collection\n",
    "                        subcategory_link = subcategory_li.find(\"a\")[\"href\"]\n",
    "\n",
    "                        if \"collections\" in subcategory_link and subcategory_name !=   \"Collections\":\n",
    "                            writer.writerow({\n",
    "                                \"category_name\": category_name,\n",
    "                                \"subcategory\": subcategory_name,\n",
    "                                \"collection_name\": subcategory_name.replace(\"-\", ''),\n",
    "                                \"collection_link\": \"https://parker-house.com\" + subcategory_link\n",
    "                            })\n",
    "            else:\n",
    "                # No subcategories, treat category as both subcategory and collection\n",
    "                category_link = category_li.find(\"a\").get(\"href\")\n",
    "                if \"collections\" in subcategory_link and subcategory_name !=   \"Collections\":\n",
    "                    writer.writerow({\n",
    "                        \"category_name\": category_name,\n",
    "                        \"subcategory\": category_name,\n",
    "                        \"collection_name\": category_name.replace(\"-\", ''),\n",
    "                        \"collection_link\": \"https://parker-house.com\" + category_link\n",
    "                    })\n",
    "\n",
    "    print(f\"Data has been saved to {csv_file}\")\n",
    "\n",
    "# \n",
    "scrape_navbar_to_csv()\n"
   ]
  },
  {
   "cell_type": "markdown",
   "metadata": {},
   "source": [
    "## Products list gathering stage"
   ]
  },
  {
   "cell_type": "code",
   "execution_count": 42,
   "metadata": {},
   "outputs": [
    {
     "name": "stdout",
     "output_type": "stream",
     "text": [
      "https://parker-house.com/collections/tv-consoles/products/ame-63-cot\n",
      "https://parker-house.com/collections/tv-consoles/products/ame-76-cot\n",
      "https://parker-house.com/collections/tv-consoles/products/ame-92-cot\n",
      "https://parker-house.com/collections/tv-consoles/products/ame-63-den\n",
      "https://parker-house.com/collections/tv-consoles/products/ame-76-den\n",
      "https://parker-house.com/collections/tv-consoles/products/ame-92-den\n",
      "https://parker-house.com/collections/tv-consoles/products/ame-63-dov\n",
      "https://parker-house.com/collections/tv-consoles/products/ame-76-dov\n",
      "https://parker-house.com/collections/tv-consoles/products/ame-92-dov\n",
      "https://parker-house.com/collections/tv-consoles/products/asc-90-dch\n",
      "https://parker-house.com/collections/tv-consoles/products/asc-90-2-dch-set\n",
      "https://parker-house.com/collections/tv-consoles/products/bel-705\n",
      "https://parker-house.com/collections/tv-consoles/products/bbg-72\n",
      "https://parker-house.com/collections/tv-consoles/products/boc-411\n",
      "https://parker-house.com/collections/tv-consoles/products/bru-68\n",
      "https://parker-house.com/collections/tv-consoles/products/cai-80\n",
      "https://parker-house.com/collections/tv-consoles/products/cap-63\n",
      "https://parker-house.com/collections/tv-consoles/products/cap-76\n",
      "https://parker-house.com/collections/tv-consoles/products/cat-411\n",
      "https://parker-house.com/collections/tv-consoles/products/chk-81\n",
      "https://parker-house.com/collections/tv-consoles/products/ccb-80\n",
      "https://parker-house.com/collections/tv-consoles/products/cortina-90-in-console-black-tea\n",
      "https://parker-house.com/collections/tv-consoles/products/cortina-90-in-console-whitewash\n",
      "https://parker-house.com/collections/tv-consoles/products/csb-78\n",
      "https://parker-house.com/collections/tv-consoles/products/dow-86\n",
      "https://parker-house.com/collections/tv-consoles/products/ede-68\n",
      "https://parker-house.com/collections/tv-consoles/products/mal-76\n",
      "https://parker-house.com/collections/tv-consoles/products/mon-69\n",
      "https://parker-house.com/collections/tv-consoles/products/mor-78\n",
      "https://parker-house.com/collections/tv-consoles/products/pal-78\n",
      "https://parker-house.com/collections/tv-consoles/products/por-57\n",
      "https://parker-house.com/collections/tv-consoles/products/por-78\n",
      "https://parker-house.com/collections/tv-consoles/products/ser-66\n",
      "https://parker-house.com/collections/tv-consoles/products/dom-68\n",
      "https://parker-house.com/collections/tv-consoles/products/edinburg-90-in-console-admiral-haze\n",
      "https://parker-house.com/collections/tv-consoles/products/edinburg-90-in-console-driftwood\n",
      "https://parker-house.com/collections/tv-consoles/products/hig-76\n",
      "https://parker-house.com/collections/tv-consoles/products/hun-415x\n",
      "https://parker-house.com/collections/tv-consoles/products/ill-72\n",
      "https://parker-house.com/collections/tv-consoles/products/lod-63\n",
      "https://parker-house.com/collections/tv-consoles/products/lov-80\n",
      "https://parker-house.com/collections/tv-consoles/products/epal-15x\n",
      "https://parker-house.com/collections/tv-consoles/products/pro-412\n",
      "https://parker-house.com/collections/tv-consoles/products/pur-63a\n",
      "https://parker-house.com/collections/tv-consoles/products/sho-412-efw\n",
      "https://parker-house.com/collections/tv-consoles/products/sho-412-mdr\n",
      "https://parker-house.com/collections/tv-consoles/products/sun-63-ss\n",
      "https://parker-house.com/collections/tv-consoles/products/sun-76-ss\n",
      "https://parker-house.com/collections/tv-consoles/products/sun-92-ss\n",
      "https://parker-house.com/collections/tv-consoles/products/sun-63-sgr\n"
     ]
    }
   ],
   "source": [
    "# Find all <a> tags\n",
    "links = soup.find_all('a')\n",
    "\n",
    "products = []\n",
    "\n",
    "# Iterate through each link\n",
    "for link in links:\n",
    "    href = link.get(\"href\")  # Get the href attribute\n",
    "    if href and href.startswith(\"/collections/\") and \"/products/\" in href:\n",
    "        href = \"https://parker-house.com\" + href\n",
    "        products.append(href)\n",
    "        print(href)"
   ]
  },
  {
   "cell_type": "code",
   "execution_count": 43,
   "metadata": {},
   "outputs": [
    {
     "data": {
      "text/plain": [
       "50"
      ]
     },
     "execution_count": 43,
     "metadata": {},
     "output_type": "execute_result"
    }
   ],
   "source": [
    "len(products)"
   ]
  },
  {
   "cell_type": "code",
   "execution_count": 32,
   "metadata": {},
   "outputs": [
    {
     "name": "stdout",
     "output_type": "stream",
     "text": [
      "Scraping: https://parker-house.com/collections/tv-consoles?page=1\n",
      "https://parker-house.com/collections/tv-consoles/products/ame-63-cot\n",
      "https://parker-house.com/collections/tv-consoles/products/ame-76-cot\n",
      "https://parker-house.com/collections/tv-consoles/products/ame-92-cot\n",
      "https://parker-house.com/collections/tv-consoles/products/ame-63-den\n",
      "https://parker-house.com/collections/tv-consoles/products/ame-76-den\n",
      "https://parker-house.com/collections/tv-consoles/products/ame-92-den\n",
      "https://parker-house.com/collections/tv-consoles/products/ame-63-dov\n",
      "https://parker-house.com/collections/tv-consoles/products/ame-76-dov\n",
      "https://parker-house.com/collections/tv-consoles/products/ame-92-dov\n",
      "https://parker-house.com/collections/tv-consoles/products/asc-90-dch\n",
      "https://parker-house.com/collections/tv-consoles/products/asc-90-2-dch-set\n",
      "https://parker-house.com/collections/tv-consoles/products/bel-705\n",
      "https://parker-house.com/collections/tv-consoles/products/bbg-72\n",
      "https://parker-house.com/collections/tv-consoles/products/boc-411\n",
      "https://parker-house.com/collections/tv-consoles/products/bru-68\n",
      "https://parker-house.com/collections/tv-consoles/products/cai-80\n",
      "https://parker-house.com/collections/tv-consoles/products/cap-63\n",
      "https://parker-house.com/collections/tv-consoles/products/cap-76\n",
      "https://parker-house.com/collections/tv-consoles/products/cat-411\n",
      "https://parker-house.com/collections/tv-consoles/products/chk-81\n",
      "https://parker-house.com/collections/tv-consoles/products/ccb-80\n",
      "https://parker-house.com/collections/tv-consoles/products/cortina-90-in-console-black-tea\n",
      "https://parker-house.com/collections/tv-consoles/products/cortina-90-in-console-whitewash\n",
      "https://parker-house.com/collections/tv-consoles/products/csb-78\n",
      "https://parker-house.com/collections/tv-consoles/products/dow-86\n",
      "https://parker-house.com/collections/tv-consoles/products/ede-68\n",
      "https://parker-house.com/collections/tv-consoles/products/mal-76\n",
      "https://parker-house.com/collections/tv-consoles/products/mon-69\n",
      "https://parker-house.com/collections/tv-consoles/products/mor-78\n",
      "https://parker-house.com/collections/tv-consoles/products/pal-78\n",
      "https://parker-house.com/collections/tv-consoles/products/por-57\n",
      "https://parker-house.com/collections/tv-consoles/products/por-78\n",
      "https://parker-house.com/collections/tv-consoles/products/ser-66\n",
      "https://parker-house.com/collections/tv-consoles/products/dom-68\n",
      "https://parker-house.com/collections/tv-consoles/products/edinburg-90-in-console-admiral-haze\n",
      "https://parker-house.com/collections/tv-consoles/products/edinburg-90-in-console-driftwood\n",
      "https://parker-house.com/collections/tv-consoles/products/hig-76\n",
      "https://parker-house.com/collections/tv-consoles/products/hun-415x\n",
      "https://parker-house.com/collections/tv-consoles/products/ill-72\n",
      "https://parker-house.com/collections/tv-consoles/products/lod-63\n",
      "https://parker-house.com/collections/tv-consoles/products/lov-80\n",
      "https://parker-house.com/collections/tv-consoles/products/epal-15x\n",
      "https://parker-house.com/collections/tv-consoles/products/pro-412\n",
      "https://parker-house.com/collections/tv-consoles/products/pur-63a\n",
      "https://parker-house.com/collections/tv-consoles/products/sho-412-efw\n",
      "https://parker-house.com/collections/tv-consoles/products/sho-412-mdr\n",
      "https://parker-house.com/collections/tv-consoles/products/sun-63-ss\n",
      "https://parker-house.com/collections/tv-consoles/products/sun-76-ss\n",
      "https://parker-house.com/collections/tv-consoles/products/sun-92-ss\n",
      "https://parker-house.com/collections/tv-consoles/products/sun-63-sgr\n",
      "Scraping: https://parker-house.com/collections/tv-consoles?page=2\n",
      "https://parker-house.com/collections/tv-consoles/products/sun-76-sgr\n",
      "https://parker-house.com/collections/tv-consoles/products/sun-92-sgr\n",
      "https://parker-house.com/collections/tv-consoles/products/tid-62\n",
      "https://parker-house.com/collections/tv-consoles/products/tid-72\n",
      "https://parker-house.com/collections/tv-consoles/products/was-412\n",
      "\n",
      "Total Products Found: 55\n"
     ]
    }
   ],
   "source": [
    "from bs4 import BeautifulSoup\n",
    "import requests\n",
    "\n",
    "def scrape_all_products(base_url):\n",
    "    current_page = 1\n",
    "    products = []\n",
    "\n",
    "    while True:\n",
    "        # Request the current page\n",
    "        url = f\"{base_url}?page={current_page}\"\n",
    "        print(f\"Scraping: {url}\")\n",
    "        req = requests.get(url)\n",
    "        soup = BeautifulSoup(req.content, \"html.parser\")\n",
    "\n",
    "        # Find all product links on the current page\n",
    "        links = soup.find_all('a')\n",
    "        for link in links:\n",
    "            href = link.get(\"href\")  # Get the href attribute\n",
    "            if href and href.startswith(\"/collections/\") and \"/products/\" in href:\n",
    "                full_url = \"https://parker-house.com\" + href\n",
    "                if full_url not in products:  # Avoid duplicates\n",
    "                    products.append(full_url)\n",
    "                    print(full_url)\n",
    "\n",
    "        # Check for the \"Next\" page link\n",
    "        next_page = soup.find(\"span\", class_=\"next\")\n",
    "        if next_page and next_page.find(\"a\"):\n",
    "            current_page += 1  # Increment to the next page\n",
    "        else:\n",
    "            break  # No more pages, exit the loop\n",
    "\n",
    "    return products\n",
    "\n",
    "# Base URL for the collection\n",
    "base_url = \"https://parker-house.com/collections/tv-consoles\"\n",
    "all_products = scrape_all_products(base_url)\n",
    "\n",
    "# Print all collected products\n",
    "print(\"\\nTotal Products Found:\", len(all_products))\n"
   ]
  },
  {
   "cell_type": "code",
   "execution_count": 51,
   "metadata": {},
   "outputs": [
    {
     "name": "stdout",
     "output_type": "stream",
     "text": [
      "Processing category: Living Room, collection: Occasional Tables\n",
      "Scraping: https://parker-house.com/collections/occasional-tables?page=1\n",
      "https://parker-house.com/collections/occasional-tables/products/ame-06-cot\n",
      "https://parker-house.com/collections/occasional-tables/products/ame-01-cot\n",
      "https://parker-house.com/collections/occasional-tables/products/ame-05-cot\n",
      "https://parker-house.com/collections/occasional-tables/products/ame-02-cot\n",
      "https://parker-house.com/collections/occasional-tables/products/ame-09-cot\n",
      "https://parker-house.com/collections/occasional-tables/products/ame-09-4-cot\n",
      "https://parker-house.com/collections/occasional-tables/products/ame-06-den\n",
      "https://parker-house.com/collections/occasional-tables/products/ame-01-den\n",
      "https://parker-house.com/collections/occasional-tables/products/ame-02-den\n",
      "https://parker-house.com/collections/occasional-tables/products/ame-06-dov\n",
      "https://parker-house.com/collections/occasional-tables/products/ame-01-dov\n",
      "https://parker-house.com/collections/occasional-tables/products/ame-02-dov\n",
      "https://parker-house.com/collections/occasional-tables/products/dow-16\n",
      "https://parker-house.com/collections/occasional-tables/products/dow-11\n",
      "https://parker-house.com/collections/occasional-tables/products/dow-12\n",
      "https://parker-house.com/collections/occasional-tables/products/ede-04\n",
      "https://parker-house.com/collections/occasional-tables/products/ede-06\n",
      "https://parker-house.com/collections/occasional-tables/products/ede-01\n",
      "https://parker-house.com/collections/occasional-tables/products/mon-04\n",
      "https://parker-house.com/collections/occasional-tables/products/mon-02\n",
      "https://parker-house.com/collections/occasional-tables/products/mon-01\n",
      "https://parker-house.com/collections/occasional-tables/products/pal-04\n",
      "https://parker-house.com/collections/occasional-tables/products/pal-11-2\n",
      "https://parker-house.com/collections/occasional-tables/products/pal-12-2\n",
      "https://parker-house.com/collections/occasional-tables/products/ser-04\n",
      "https://parker-house.com/collections/occasional-tables/products/ser-11\n",
      "https://parker-house.com/collections/occasional-tables/products/ser-12\n",
      "https://parker-house.com/collections/occasional-tables/products/esc-01\n",
      "https://parker-house.com/collections/occasional-tables/products/esc-02\n",
      "https://parker-house.com/collections/occasional-tables/products/pur-02a\n",
      "https://parker-house.com/collections/occasional-tables/products/pur-01\n",
      "https://parker-house.com/collections/occasional-tables/products/pur-02\n",
      "https://parker-house.com/collections/occasional-tables/products/pur-01a\n",
      "https://parker-house.com/collections/occasional-tables/products/rr-06\n",
      "https://parker-house.com/collections/occasional-tables/products/rr-02\n",
      "https://parker-house.com/collections/occasional-tables/products/sun-02-ss\n",
      "https://parker-house.com/collections/occasional-tables/products/sun-09-ss\n",
      "https://parker-house.com/collections/occasional-tables/products/sun-09-4-ss\n",
      "https://parker-house.com/collections/occasional-tables/products/sun-06-sgr\n",
      "https://parker-house.com/collections/occasional-tables/products/sun-01-sgr\n",
      "https://parker-house.com/collections/occasional-tables/products/sun-02-sgr\n",
      "https://parker-house.com/collections/occasional-tables/products/sun-09-sgr\n",
      "https://parker-house.com/collections/occasional-tables/products/sun-09-4-sgr\n",
      "https://parker-house.com/collections/occasional-tables/products/ver-06\n",
      "Products found: 44\n",
      "Processing category: Living Room, collection:  TV Consoles\n",
      "Scraping: https://parker-house.com/collections/tv-consoles?page=1\n",
      "https://parker-house.com/collections/tv-consoles/products/ame-63-cot\n",
      "https://parker-house.com/collections/tv-consoles/products/ame-76-cot\n",
      "https://parker-house.com/collections/tv-consoles/products/ame-92-cot\n",
      "https://parker-house.com/collections/tv-consoles/products/ame-63-den\n",
      "https://parker-house.com/collections/tv-consoles/products/ame-76-den\n",
      "https://parker-house.com/collections/tv-consoles/products/ame-92-den\n",
      "https://parker-house.com/collections/tv-consoles/products/ame-63-dov\n",
      "https://parker-house.com/collections/tv-consoles/products/ame-76-dov\n",
      "https://parker-house.com/collections/tv-consoles/products/ame-92-dov\n",
      "https://parker-house.com/collections/tv-consoles/products/asc-90-dch\n",
      "https://parker-house.com/collections/tv-consoles/products/asc-90-2-dch-set\n",
      "https://parker-house.com/collections/tv-consoles/products/bel-705\n",
      "https://parker-house.com/collections/tv-consoles/products/bbg-72\n",
      "https://parker-house.com/collections/tv-consoles/products/boc-411\n",
      "https://parker-house.com/collections/tv-consoles/products/bru-68\n",
      "https://parker-house.com/collections/tv-consoles/products/cai-80\n",
      "https://parker-house.com/collections/tv-consoles/products/cap-63\n",
      "https://parker-house.com/collections/tv-consoles/products/cap-76\n",
      "https://parker-house.com/collections/tv-consoles/products/cat-411\n",
      "https://parker-house.com/collections/tv-consoles/products/chk-81\n",
      "https://parker-house.com/collections/tv-consoles/products/ccb-80\n",
      "https://parker-house.com/collections/tv-consoles/products/cortina-90-in-console-black-tea\n",
      "https://parker-house.com/collections/tv-consoles/products/cortina-90-in-console-whitewash\n",
      "https://parker-house.com/collections/tv-consoles/products/csb-78\n",
      "https://parker-house.com/collections/tv-consoles/products/dow-86\n",
      "https://parker-house.com/collections/tv-consoles/products/ede-68\n",
      "https://parker-house.com/collections/tv-consoles/products/mal-76\n",
      "https://parker-house.com/collections/tv-consoles/products/mon-69\n",
      "https://parker-house.com/collections/tv-consoles/products/mor-78\n",
      "https://parker-house.com/collections/tv-consoles/products/pal-78\n",
      "https://parker-house.com/collections/tv-consoles/products/por-57\n",
      "https://parker-house.com/collections/tv-consoles/products/por-78\n",
      "https://parker-house.com/collections/tv-consoles/products/ser-66\n",
      "https://parker-house.com/collections/tv-consoles/products/dom-68\n",
      "https://parker-house.com/collections/tv-consoles/products/edinburg-90-in-console-admiral-haze\n",
      "https://parker-house.com/collections/tv-consoles/products/edinburg-90-in-console-driftwood\n",
      "https://parker-house.com/collections/tv-consoles/products/hig-76\n",
      "https://parker-house.com/collections/tv-consoles/products/hun-415x\n",
      "https://parker-house.com/collections/tv-consoles/products/ill-72\n",
      "https://parker-house.com/collections/tv-consoles/products/lod-63\n",
      "https://parker-house.com/collections/tv-consoles/products/lov-80\n",
      "https://parker-house.com/collections/tv-consoles/products/epal-15x\n",
      "https://parker-house.com/collections/tv-consoles/products/pro-412\n",
      "https://parker-house.com/collections/tv-consoles/products/pur-63a\n",
      "https://parker-house.com/collections/tv-consoles/products/sho-412-efw\n",
      "https://parker-house.com/collections/tv-consoles/products/sho-412-mdr\n",
      "https://parker-house.com/collections/tv-consoles/products/sun-63-ss\n",
      "https://parker-house.com/collections/tv-consoles/products/sun-76-ss\n",
      "https://parker-house.com/collections/tv-consoles/products/sun-92-ss\n",
      "https://parker-house.com/collections/tv-consoles/products/sun-63-sgr\n",
      "Scraping: https://parker-house.com/collections/tv-consoles?page=2\n",
      "https://parker-house.com/collections/tv-consoles/products/sun-76-sgr\n",
      "https://parker-house.com/collections/tv-consoles/products/sun-92-sgr\n",
      "https://parker-house.com/collections/tv-consoles/products/tid-62\n",
      "https://parker-house.com/collections/tv-consoles/products/tid-72\n",
      "https://parker-house.com/collections/tv-consoles/products/tid-84\n",
      "https://parker-house.com/collections/tv-consoles/products/was-412\n",
      "Products found: 56\n",
      "Processing category: Living Room, collection:  Entertainment Walls\n",
      "Scraping: https://parker-house.com/collections/entertainment-walls?page=1\n",
      "https://parker-house.com/collections/entertainment-walls/products/ame-92-3-cot\n",
      "https://parker-house.com/collections/entertainment-walls/products/ame-92-4-cot\n",
      "https://parker-house.com/collections/entertainment-walls/products/ame-92-3-den\n",
      "https://parker-house.com/collections/entertainment-walls/products/ame-92-4-den\n",
      "https://parker-house.com/collections/entertainment-walls/products/ame-92-3-dov\n",
      "https://parker-house.com/collections/entertainment-walls/products/ame-92-4-dov\n",
      "https://parker-house.com/collections/entertainment-walls/products/asc-90-2-dch-set\n",
      "https://parker-house.com/collections/entertainment-walls/products/bel-700-4\n",
      "https://parker-house.com/collections/entertainment-walls/products/cap-163-3\n",
      "https://parker-house.com/collections/entertainment-walls/products/cap-176-3\n",
      "https://parker-house.com/collections/entertainment-walls/products/epal-100-4x\n",
      "https://parker-house.com/collections/entertainment-walls/products/pur-5pc-ent-wall\n",
      "https://parker-house.com/collections/entertainment-walls/products/sho-2pc-ent-wall-efw\n",
      "https://parker-house.com/collections/entertainment-walls/products/sho-2pc-ent-wall-mdr\n",
      "https://parker-house.com/collections/entertainment-walls/products/sun-92-3-ss\n",
      "https://parker-house.com/collections/entertainment-walls/products/sun-92-4-ss\n",
      "https://parker-house.com/collections/entertainment-walls/products/sun-92-3-sgr\n",
      "https://parker-house.com/collections/entertainment-walls/products/sun-92-4-sgr\n",
      "https://parker-house.com/collections/entertainment-walls/products/tid-162-4\n",
      "https://parker-house.com/collections/entertainment-walls/products/tid-172-4\n",
      "https://parker-house.com/collections/entertainment-walls/products/was-4pc-ent-wall\n",
      "https://parker-house.com/collections/entertainment-walls/products/was-2pc-ent-wall\n",
      "Products found: 22\n",
      "Processing category: Living Room, collection:   Bookcases\n",
      "Scraping: https://parker-house.com/collections/accent-bookcase?page=1\n",
      "https://parker-house.com/collections/accent-bookcase/products/add-330\n",
      "https://parker-house.com/collections/accent-bookcase/products/ame-330-cot\n",
      "https://parker-house.com/collections/accent-bookcase/products/ame-330-den\n",
      "https://parker-house.com/collections/accent-bookcase/products/ame-330-dov\n",
      "https://parker-house.com/collections/accent-bookcase/products/dow-330\n",
      "https://parker-house.com/collections/accent-bookcase/products/ede-330\n",
      "https://parker-house.com/collections/accent-bookcase/products/pal-330\n",
      "https://parker-house.com/collections/accent-bookcase/products/ser-330\n",
      "https://parker-house.com/collections/accent-bookcase/products/pur-250ap\n",
      "https://parker-house.com/collections/accent-bookcase/products/tem-250p-gst\n",
      "Products found: 10\n",
      "Processing category: Living Room, collection:   Chairs\n",
      "Scraping: https://parker-house.com/collections/accent-chairs?page=1\n",
      "https://parker-house.com/collections/accent-chairs/products/sbar_912s-snow\n",
      "https://parker-house.com/collections/accent-chairs/products/barolo-steamboat-ice-swivel-club-chair\n",
      "https://parker-house.com/collections/accent-chairs/products/sbar-912s-vgbr\n",
      "https://parker-house.com/collections/accent-chairs/products/barolo-vintage-caramel-swivel-club-chair\n",
      "https://parker-house.com/collections/accent-chairs/products/sbar-912s-vgnv\n",
      "https://parker-house.com/collections/accent-chairs/products/sbar-912s-vgsl\n",
      "https://parker-house.com/collections/accent-chairs/products/sbar-912s-vgwk\n",
      "https://parker-house.com/collections/accent-chairs/products/dbgo-drc-qmin\n",
      "https://parker-house.com/collections/accent-chairs/products/dbgo-drc-qmln\n",
      "https://parker-house.com/collections/accent-chairs/products/dbgo-drc-qmsg\n",
      "https://parker-house.com/collections/accent-chairs/products/sbmr-912s-dmdv\n",
      "https://parker-house.com/collections/accent-chairs/products/sbmr-912s-mgiv\n",
      "https://parker-house.com/collections/accent-chairs/products/sbmr-912-utsa\n",
      "https://parker-house.com/collections/accent-chairs/products/ddia-drc-elln\n",
      "https://parker-house.com/collections/accent-chairs/products/ddia-drc-elnv\n",
      "https://parker-house.com/collections/accent-chairs/products/ddia-drc-elrs\n",
      "https://parker-house.com/collections/accent-chairs/products/sorb-912-dmdv\n",
      "https://parker-house.com/collections/accent-chairs/products/sorb-912-elnt\n",
      "https://parker-house.com/collections/accent-chairs/products/dsie-drc-cpbr\n",
      "https://parker-house.com/collections/accent-chairs/products/dsie-drc-cpsl\n",
      "https://parker-house.com/collections/accent-chairs/products/dsie-drc-mrms\n",
      "https://parker-house.com/collections/accent-chairs/products/dslp-drc-mtiv\n",
      "https://parker-house.com/collections/accent-chairs/products/ssur-912-brnt\n",
      "https://parker-house.com/collections/accent-chairs/products/stwi-912-elrs\n",
      "https://parker-house.com/collections/accent-chairs/products/svog-912-fach\n",
      "Products found: 25\n",
      "Processing category: Living Room, collection:   Consoles\n",
      "Scraping: https://parker-house.com/collections/accent-consoles?page=1\n",
      "https://parker-house.com/collections/accent-consoles/products/bbg-72\n",
      "https://parker-house.com/collections/accent-consoles/products/bru-68\n",
      "https://parker-house.com/collections/accent-consoles/products/cai-80\n",
      "https://parker-house.com/collections/accent-consoles/products/chk-81\n",
      "https://parker-house.com/collections/accent-consoles/products/ccb-80\n",
      "https://parker-house.com/collections/accent-consoles/products/cortina-90-in-console-black-tea\n",
      "https://parker-house.com/collections/accent-consoles/products/cortina-90-in-console-whitewash\n",
      "https://parker-house.com/collections/accent-consoles/products/csb-78\n",
      "https://parker-house.com/collections/accent-consoles/products/dow-86\n",
      "https://parker-house.com/collections/accent-consoles/products/ede-68\n",
      "https://parker-house.com/collections/accent-consoles/products/mal-76\n",
      "https://parker-house.com/collections/accent-consoles/products/mon-69\n",
      "https://parker-house.com/collections/accent-consoles/products/mor-78\n",
      "https://parker-house.com/collections/accent-consoles/products/pal-78\n",
      "https://parker-house.com/collections/accent-consoles/products/por-57\n",
      "https://parker-house.com/collections/accent-consoles/products/por-78\n",
      "https://parker-house.com/collections/accent-consoles/products/ser-66\n",
      "https://parker-house.com/collections/accent-consoles/products/edinburg-90-in-console-admiral-haze\n",
      "https://parker-house.com/collections/accent-consoles/products/edinburg-90-in-console-driftwood\n",
      "https://parker-house.com/collections/accent-consoles/products/esc-72oc\n",
      "https://parker-house.com/collections/accent-consoles/products/esc-90\n",
      "https://parker-house.com/collections/accent-consoles/products/ill-72\n",
      "https://parker-house.com/collections/accent-consoles/products/lod-63\n",
      "https://parker-house.com/collections/accent-consoles/products/lov-80\n",
      "https://parker-house.com/collections/accent-consoles/products/pur-63a\n",
      "Products found: 25\n",
      "Processing category: Living Room, collection:   Mirrors\n",
      "Scraping: https://parker-house.com/collections/accent-mirrors?page=1\n",
      "https://parker-house.com/collections/accent-mirrors/products/dow-m3780\n",
      "https://parker-house.com/collections/accent-mirrors/products/dow-m42\n",
      "https://parker-house.com/collections/accent-mirrors/products/ede-m3681\n",
      "https://parker-house.com/collections/accent-mirrors/products/ede-m42\n",
      "https://parker-house.com/collections/accent-mirrors/products/mon-m3680\n",
      "https://parker-house.com/collections/accent-mirrors/products/mon-m3546\n",
      "https://parker-house.com/collections/accent-mirrors/products/pal-m3580\n",
      "https://parker-house.com/collections/accent-mirrors/products/pal-m47\n",
      "https://parker-house.com/collections/accent-mirrors/products/ser-m3780\n",
      "https://parker-house.com/collections/accent-mirrors/products/ser-m43\n",
      "https://parker-house.com/collections/accent-mirrors/products/und-m45\n",
      "Products found: 11\n",
      "Processing category: Living Room, collection:  Pillows\n",
      "Scraping: https://parker-house.com/collections/pillows/Pillows?page=1\n",
      "https://parker-house.com/collections/pillows/products/mbry-pp-osm\n",
      "Products found: 1\n",
      "Processing category: Living Room, collection:   Tables\n",
      "Scraping: https://parker-house.com/collections/accent-tables-2?page=1\n",
      "https://parker-house.com/collections/accent-tables-2/products/dow-16\n",
      "https://parker-house.com/collections/accent-tables-2/products/dow-11\n",
      "https://parker-house.com/collections/accent-tables-2/products/dow-12\n",
      "https://parker-house.com/collections/accent-tables-2/products/ede-04\n",
      "https://parker-house.com/collections/accent-tables-2/products/ede-06\n",
      "https://parker-house.com/collections/accent-tables-2/products/ede-01\n",
      "https://parker-house.com/collections/accent-tables-2/products/mon-04\n",
      "https://parker-house.com/collections/accent-tables-2/products/mon-01\n",
      "https://parker-house.com/collections/accent-tables-2/products/pal-04\n",
      "https://parker-house.com/collections/accent-tables-2/products/pal-12-2\n",
      "https://parker-house.com/collections/accent-tables-2/products/ser-04\n",
      "https://parker-house.com/collections/accent-tables-2/products/ser-12\n",
      "Products found: 12\n",
      "Processing category: Upholstery, collection: Sofa Groups\n",
      "Scraping: https://parker-house.com/collections/stationary-sofa-groups?page=1\n",
      "https://parker-house.com/collections/stationary-sofa-groups/products/sutp-932-mgiv\n",
      "Products found: 1\n",
      "Processing category: Upholstery, collection: Modular Groups & Sectionals\n",
      "Scraping: https://parker-house.com/collections/stationary-modular-sectionals?page=1\n",
      "https://parker-house.com/collections/stationary-modular-sectionals/products/sbmp-pack4a-alfs\n",
      "https://parker-house.com/collections/stationary-modular-sectionals/products/svog-pack2a-fach\n",
      "https://parker-house.com/collections/stationary-modular-sectionals/products/srec-pack6a-rpbl\n",
      "https://parker-house.com/collections/stationary-modular-sectionals/products/srec-pack5a-rpbl\n",
      "https://parker-house.com/collections/stationary-modular-sectionals/products/ssur-pack5a-brnt\n",
      "https://parker-house.com/collections/stationary-modular-sectionals/products/spla-pack6a-cncb\n",
      "https://parker-house.com/collections/stationary-modular-sectionals/products/sxhl-pack6a-mthu\n",
      "https://parker-house.com/collections/stationary-modular-sectionals/products/sxhl-pack5b-mthu\n",
      "https://parker-house.com/collections/stationary-modular-sectionals/products/sxhl-pack5a-mthu\n",
      "https://parker-house.com/collections/stationary-modular-sectionals/products/sesc-pack4a-mrms\n",
      "Products found: 10\n",
      "Processing category: Upholstery, collection: Accent Chairs\n",
      "Scraping: https://parker-house.com/collections/accent-chairs?page=1\n",
      "https://parker-house.com/collections/accent-chairs/products/sbar_912s-snow\n",
      "https://parker-house.com/collections/accent-chairs/products/barolo-steamboat-ice-swivel-club-chair\n",
      "https://parker-house.com/collections/accent-chairs/products/sbar-912s-vgbr\n",
      "https://parker-house.com/collections/accent-chairs/products/barolo-vintage-caramel-swivel-club-chair\n",
      "https://parker-house.com/collections/accent-chairs/products/sbar-912s-vgnv\n",
      "https://parker-house.com/collections/accent-chairs/products/sbar-912s-vgsl\n",
      "https://parker-house.com/collections/accent-chairs/products/sbar-912s-vgwk\n",
      "https://parker-house.com/collections/accent-chairs/products/dbgo-drc-qmin\n",
      "https://parker-house.com/collections/accent-chairs/products/dbgo-drc-qmln\n",
      "https://parker-house.com/collections/accent-chairs/products/dbgo-drc-qmsg\n",
      "https://parker-house.com/collections/accent-chairs/products/sbmr-912s-dmdv\n",
      "https://parker-house.com/collections/accent-chairs/products/sbmr-912s-mgiv\n",
      "https://parker-house.com/collections/accent-chairs/products/sbmr-912-utsa\n",
      "https://parker-house.com/collections/accent-chairs/products/ddia-drc-elln\n",
      "https://parker-house.com/collections/accent-chairs/products/ddia-drc-elnv\n",
      "https://parker-house.com/collections/accent-chairs/products/ddia-drc-elrs\n",
      "https://parker-house.com/collections/accent-chairs/products/sorb-912-dmdv\n",
      "https://parker-house.com/collections/accent-chairs/products/sorb-912-elnt\n",
      "https://parker-house.com/collections/accent-chairs/products/dsie-drc-cpbr\n",
      "https://parker-house.com/collections/accent-chairs/products/dsie-drc-cpsl\n",
      "https://parker-house.com/collections/accent-chairs/products/dsie-drc-mrms\n",
      "https://parker-house.com/collections/accent-chairs/products/dslp-drc-mtiv\n",
      "https://parker-house.com/collections/accent-chairs/products/ssur-912-brnt\n",
      "https://parker-house.com/collections/accent-chairs/products/stwi-912-elrs\n",
      "https://parker-house.com/collections/accent-chairs/products/svog-912-fach\n",
      "Products found: 25\n",
      "Processing category: Upholstery, collection: Ottomans\n",
      "Scraping: https://parker-house.com/collections/ottomans?page=1\n",
      "https://parker-house.com/collections/ottomans/products/mbry-800-osm\n",
      "https://parker-house.com/collections/ottomans/products/mmad-800-sqk\n",
      "https://parker-house.com/collections/ottomans/products/mmad-800-sql\n",
      "https://parker-house.com/collections/ottomans/products/spla-900-cncb\n",
      "https://parker-house.com/collections/ottomans/products/srec-900-rpbl\n",
      "https://parker-house.com/collections/ottomans/products/ssur-900-brnt\n",
      "https://parker-house.com/collections/ottomans/products/sbmp-900-azes\n",
      "https://parker-house.com/collections/ottomans/products/sutp-900-mgiv\n",
      "https://parker-house.com/collections/ottomans/products/svog-900-fach\n",
      "Products found: 9\n",
      "Processing category: Upholstery, collection: Pillows\n",
      "Scraping: https://parker-house.com/collections/pillows/Pillows?page=1\n",
      "https://parker-house.com/collections/pillows/products/mbry-pp-osm\n",
      "Products found: 1\n",
      "Processing category: Upholstery, collection: Swivel Chairs\n",
      "Scraping: https://parker-house.com/collections/swivel-chairs?page=1\n",
      "https://parker-house.com/collections/swivel-chairs/products/sbar_912s-snow\n",
      "https://parker-house.com/collections/swivel-chairs/products/barolo-steamboat-ice-swivel-club-chair\n",
      "https://parker-house.com/collections/swivel-chairs/products/sbar-912s-vgbr\n",
      "https://parker-house.com/collections/swivel-chairs/products/barolo-vintage-caramel-swivel-club-chair\n",
      "https://parker-house.com/collections/swivel-chairs/products/sbar-912s-vgnv\n",
      "https://parker-house.com/collections/swivel-chairs/products/sbar-912s-vgsl\n",
      "https://parker-house.com/collections/swivel-chairs/products/sbar-912s-vgwk\n",
      "https://parker-house.com/collections/swivel-chairs/products/sbmr-912s-dmdv\n",
      "https://parker-house.com/collections/swivel-chairs/products/sbmr-912s-mgiv\n",
      "https://parker-house.com/collections/swivel-chairs/products/sbmr-912-utsa\n",
      "https://parker-house.com/collections/swivel-chairs/products/sorb-912-dmdv\n",
      "https://parker-house.com/collections/swivel-chairs/products/sorb-912-elnt\n",
      "https://parker-house.com/collections/swivel-chairs/products/stwi-912-elrs\n",
      "Products found: 13\n",
      "Processing category: Upholstery, collection: Swivel Chairs w/ Ottomans\n",
      "Scraping: https://parker-house.com/collections/swivel-chairs-and-ottomans?page=1\n",
      "https://parker-house.com/collections/swivel-chairs-and-ottomans/products/mkni-212s-blc\n",
      "https://parker-house.com/collections/swivel-chairs-and-ottomans/products/mkni-212s-but\n",
      "https://parker-house.com/collections/swivel-chairs-and-ottomans/products/mkni-212s-csi\n",
      "https://parker-house.com/collections/swivel-chairs-and-ottomans/products/mkni-212s-haz\n",
      "https://parker-house.com/collections/swivel-chairs-and-ottomans/products/mkni-212s-ice\n",
      "https://parker-house.com/collections/swivel-chairs-and-ottomans/products/mkni-212s-rob\n",
      "https://parker-house.com/collections/swivel-chairs-and-ottomans/products/mkni-212s-rou\n",
      "https://parker-house.com/collections/swivel-chairs-and-ottomans/products/mmon-212s-but\n",
      "https://parker-house.com/collections/swivel-chairs-and-ottomans/products/mmon-212s-fli\n",
      "https://parker-house.com/collections/swivel-chairs-and-ottomans/products/mmon-212s-ice\n",
      "https://parker-house.com/collections/swivel-chairs-and-ottomans/products/mmon-212s-lin\n",
      "https://parker-house.com/collections/swivel-chairs-and-ottomans/products/mmon-212s-rob\n",
      "https://parker-house.com/collections/swivel-chairs-and-ottomans/products/mmon-212s-tru\n",
      "Products found: 13\n",
      "Processing category: Upholstery, collection: Cordless Recliners\n",
      "Scraping: https://parker-house.com/collections/freemotion-included?page=1\n",
      "https://parker-house.com/collections/freemotion-included/products/mque-812gsph-p25-upmu\n",
      "https://parker-house.com/collections/freemotion-included/products/mque-812gsph-p25-upmb\n",
      "https://parker-house.com/collections/freemotion-included/products/mque-812gsph-p25-upch\n",
      "https://parker-house.com/collections/freemotion-included/products/mmad-832ph-p25-pmu\n",
      "https://parker-house.com/collections/freemotion-included/products/mmad-832ph-p25-pma\n",
      "https://parker-house.com/collections/freemotion-included/products/mmad-822ph-p25-pmu\n",
      "https://parker-house.com/collections/freemotion-included/products/mmad-822ph-p25-pma\n",
      "https://parker-house.com/collections/freemotion-included/products/mmad-812ph-p25-pmu\n",
      "https://parker-house.com/collections/freemotion-included/products/mmad-812ph-p25-pma\n",
      "https://parker-house.com/collections/freemotion-included/products/mger-812phz-p25-vbk\n",
      "https://parker-house.com/collections/freemotion-included/products/mcar-812gsph-p25-viv\n",
      "https://parker-house.com/collections/freemotion-included/products/mcar-812gsph-p25-vli\n",
      "https://parker-house.com/collections/freemotion-included/products/mcar-812gsph-p25-vco\n",
      "https://parker-house.com/collections/freemotion-included/products/mcar-812gsph-p25-vaz\n",
      "https://parker-house.com/collections/freemotion-included/products/mwhi-321ph-p25-vli\n",
      "https://parker-house.com/collections/freemotion-included/products/mwhi-321ph-p25-vco\n",
      "https://parker-house.com/collections/freemotion-included/products/mwhi-321ph-p25-vaz\n",
      "https://parker-house.com/collections/freemotion-included/products/mwhi-832ph-p25-vli\n",
      "https://parker-house.com/collections/freemotion-included/products/mwhi-832ph-p25-vco\n",
      "https://parker-house.com/collections/freemotion-included/products/mwhi-832ph-p25-vaz\n",
      "https://parker-house.com/collections/freemotion-included/products/mwhi-822ph-p25-vli\n",
      "https://parker-house.com/collections/freemotion-included/products/mwhi-822ph-p25-vco\n",
      "https://parker-house.com/collections/freemotion-included/products/mwhi-822ph-p25-vaz\n",
      "https://parker-house.com/collections/freemotion-included/products/mwhi-812ph-p25-vli\n",
      "https://parker-house.com/collections/freemotion-included/products/mwhi-packa-h-p50-vli\n",
      "https://parker-house.com/collections/freemotion-included/products/mrad-812gsp-p25-fiv\n",
      "https://parker-house.com/collections/freemotion-included/products/mrad-812gsp-p25-fhe\n",
      "https://parker-house.com/collections/freemotion-included/products/mrad-812gsp-p25-fbr\n",
      "https://parker-house.com/collections/freemotion-included/products/mwhi-packa-h-p50-vco\n",
      "https://parker-house.com/collections/freemotion-included/products/mwhi-packa-h-p50-vaz\n",
      "https://parker-house.com/collections/freemotion-included/products/mwhi-812ph-p25-vco\n",
      "https://parker-house.com/collections/freemotion-included/products/mwhi-812ph-p25-vaz\n",
      "Products found: 32\n",
      "Processing category: Upholstery, collection: Lift Chairs\n",
      "Scraping: https://parker-house.com/collections/lift-chairs?page=1\n",
      "https://parker-house.com/collections/lift-chairs/products/mgem-812lift-csi\n",
      "https://parker-house.com/collections/lift-chairs/products/mgem-812lift-sfaz\n",
      "https://parker-house.com/collections/lift-chairs/products/mgem-812lift-sfiv\n",
      "https://parker-house.com/collections/lift-chairs/products/mgem-812lift-tru\n",
      "https://parker-house.com/collections/lift-chairs/products/mher-812lift-haz\n",
      "https://parker-house.com/collections/lift-chairs/products/mrad-812lift-kry\n",
      "https://parker-house.com/collections/lift-chairs/products/mrad-812lift-med\n",
      "https://parker-house.com/collections/lift-chairs/products/mrad-812lift-min\n",
      "https://parker-house.com/collections/lift-chairs/products/mthr-812lift-nbg\n",
      "Products found: 9\n",
      "Processing category: Upholstery, collection: Zero Gravity Recliners\n",
      "Scraping: https://parker-house.com/collections/zero-gravity-recliners?page=1\n",
      "https://parker-house.com/collections/zero-gravity-recliners/products/alpine-airy-midnight-power-zero-gravity-recliner\n",
      "https://parker-house.com/collections/zero-gravity-recliners/products/alpine-airy-midnight-power-zero-gravity-recliner-copy\n",
      "https://parker-house.com/collections/zero-gravity-recliners/products/atlantis-smooth-latte-power-zero-gravity-recliner\n",
      "https://parker-house.com/collections/zero-gravity-recliners/products/matl-812phz-wsiv\n",
      "https://parker-house.com/collections/zero-gravity-recliners/products/bradford-steamboat-ecru-zero-gravity-power-recliner\n",
      "https://parker-house.com/collections/zero-gravity-recliners/products/bradford-steamboat-marine-power-zero-gravity-recliner\n",
      "https://parker-house.com/collections/zero-gravity-recliners/products/bradford-steamboat-quartz-power-zero-gravity-recliner\n",
      "https://parker-house.com/collections/zero-gravity-recliners/products/mcan-812phz-aco\n",
      "https://parker-house.com/collections/zero-gravity-recliners/products/mcan-812phz-pew\n",
      "https://parker-house.com/collections/zero-gravity-recliners/products/mglx-812phz-csbb\n",
      "https://parker-house.com/collections/zero-gravity-recliners/products/mglx-812phz-csfg\n",
      "https://parker-house.com/collections/zero-gravity-recliners/products/mger-812phz-p25-lcbt\n",
      "https://parker-house.com/collections/zero-gravity-recliners/products/mger-812phz-p25-vbk\n",
      "https://parker-house.com/collections/zero-gravity-recliners/products/mgla-812phz-cbl\n",
      "https://parker-house.com/collections/zero-gravity-recliners/products/mgla-812phz-sky\n",
      "https://parker-house.com/collections/zero-gravity-recliners/products/mjam-812phz-hkry\n",
      "https://parker-house.com/collections/zero-gravity-recliners/products/mlin-812phz-hgy\n",
      "https://parker-house.com/collections/zero-gravity-recliners/products/momentum-cashew\n",
      "https://parker-house.com/collections/zero-gravity-recliners/products/nexus-autumn-umber-power-zero-gravity-recliner\n",
      "https://parker-house.com/collections/zero-gravity-recliners/products/nexus-stone-power-zero-gravity-recliner\n",
      "https://parker-house.com/collections/zero-gravity-recliners/products/alpine-airy-snow-power-zero-gravity-recliner-copy\n",
      "https://parker-house.com/collections/zero-gravity-recliners/products/mpro-812phz-p25-twi\n",
      "https://parker-house.com/collections/zero-gravity-recliners/products/mstr-812phz-blct\n",
      "https://parker-house.com/collections/zero-gravity-recliners/products/mstr-812phz-blsm\n",
      "https://parker-house.com/collections/zero-gravity-recliners/products/alpine-airy-snow-power-zero-gravity-recliner-copy-1\n",
      "https://parker-house.com/collections/zero-gravity-recliners/products/taylor-brazilian-cocoa-power-zero-gravity-recliner\n",
      "Products found: 26\n",
      "Processing category: Dining, collection: Bars\n",
      "Scraping: https://parker-house.com/collections/dining-bars?page=1\n",
      "https://parker-house.com/collections/dining-bars/products/dame-78bar-2-cot\n",
      "https://parker-house.com/collections/dining-bars/products/dame-1030-cot\n",
      "https://parker-house.com/collections/dining-bars/products/dame-2230s-cot\n",
      "https://parker-house.com/collections/dining-bars/products/dsun-1030s-ss\n",
      "https://parker-house.com/collections/dining-bars/products/dsun-2230s-ss\n",
      "https://parker-house.com/collections/dining-bars/products/dpur-22bc\n",
      "https://parker-house.com/collections/dining-bars/products/dpur-47-2\n",
      "https://parker-house.com/collections/dining-bars/products/dpur-78bar-2\n",
      "https://parker-house.com/collections/dining-bars/products/dpur-2530s\n",
      "https://parker-house.com/collections/dining-bars/products/desc-78bar-2\n",
      "https://parker-house.com/collections/dining-bars/products/desc-2230s\n",
      "Products found: 11\n",
      "Processing category: Dining, collection: Everywhere Consoles\n",
      "Scraping: https://parker-house.com/collections/everywhere-console?page=1\n",
      "https://parker-house.com/collections/everywhere-console/products/sun-09-4-ss\n",
      "https://parker-house.com/collections/everywhere-console/products/sun-09-4-sgr\n",
      "https://parker-house.com/collections/everywhere-console/products/ame-09-4-cot\n",
      "Products found: 3\n",
      "Processing category: Dining, collection: Seating\n",
      "Scraping: https://parker-house.com/collections/dining-seating?page=1\n",
      "https://parker-house.com/collections/dining-seating/products/dame-1030-cot\n",
      "https://parker-house.com/collections/dining-seating/products/dame-1226-cot\n",
      "https://parker-house.com/collections/dining-seating/products/dame-1218-cot\n",
      "https://parker-house.com/collections/dining-seating/products/dame-2226\n",
      "https://parker-house.com/collections/dining-seating/products/dame-1026-cot\n",
      "https://parker-house.com/collections/dining-seating/products/dame-2118-blk\n",
      "https://parker-house.com/collections/dining-seating/products/dame-2518\n",
      "https://parker-house.com/collections/dining-seating/products/dame-2018-cot\n",
      "https://parker-house.com/collections/dining-seating/products/dame-2218\n",
      "https://parker-house.com/collections/dining-seating/products/dame-2230s-cot\n",
      "https://parker-house.com/collections/dining-seating/products/dbgo-drc-qmin\n",
      "https://parker-house.com/collections/dining-seating/products/dbgo-drc-qmln\n",
      "https://parker-house.com/collections/dining-seating/products/dbgo-drc-qmsg\n",
      "https://parker-house.com/collections/dining-seating/products/dced_1218-sma\n",
      "https://parker-house.com/collections/dining-seating/products/dced_2018-sma\n",
      "https://parker-house.com/collections/dining-seating/products/dced_2026-sma\n",
      "https://parker-house.com/collections/dining-seating/products/ddow-1264\n",
      "https://parker-house.com/collections/dining-seating/products/ddia-drc-elln\n",
      "https://parker-house.com/collections/dining-seating/products/ddia-drc-elnv\n",
      "https://parker-house.com/collections/dining-seating/products/ddia-drc-elrs\n",
      "https://parker-house.com/collections/dining-seating/products/desc-2118\n",
      "https://parker-house.com/collections/dining-seating/products/desc-2018\n",
      "https://parker-house.com/collections/dining-seating/products/desc-2230s\n",
      "https://parker-house.com/collections/dining-seating/products/desc-2618\n",
      "https://parker-house.com/collections/dining-seating/products/dlod-1226\n",
      "https://parker-house.com/collections/dining-seating/products/dlod-2226\n",
      "https://parker-house.com/collections/dining-seating/products/dlod-2526s\n",
      "https://parker-house.com/collections/dining-seating/products/dlod-1026s\n",
      "https://parker-house.com/collections/dining-seating/products/dpur-2118\n",
      "https://parker-house.com/collections/dining-seating/products/dpur-2018\n",
      "https://parker-house.com/collections/dining-seating/products/dpur-2518\n",
      "https://parker-house.com/collections/dining-seating/products/dpur-2618\n",
      "https://parker-house.com/collections/dining-seating/products/dpur-2530s\n",
      "https://parker-house.com/collections/dining-seating/products/dsie-drc-cpbr\n",
      "https://parker-house.com/collections/dining-seating/products/dsie-drc-cpsl\n",
      "https://parker-house.com/collections/dining-seating/products/dsie-drc-mrms\n",
      "https://parker-house.com/collections/dining-seating/products/dslp-drc-mtiv\n",
      "https://parker-house.com/collections/dining-seating/products/dsun-1226-ss\n",
      "https://parker-house.com/collections/dining-seating/products/dsun-2226-ss\n",
      "https://parker-house.com/collections/dining-seating/products/dsun-2018-ss\n",
      "https://parker-house.com/collections/dining-seating/products/dsun-2518-ss\n",
      "https://parker-house.com/collections/dining-seating/products/dsun-1030s-ss\n",
      "https://parker-house.com/collections/dining-seating/products/dsun-2230s-ss\n",
      "Products found: 43\n",
      "Processing category: Dining, collection: Serving & Display\n",
      "Scraping: https://parker-house.com/collections/dining-serving-and-display?page=1\n",
      "https://parker-house.com/collections/dining-serving-and-display/products/dced_66sb-sma\n",
      "https://parker-house.com/collections/dining-serving-and-display/products/desc-72\n",
      "https://parker-house.com/collections/dining-serving-and-display/products/dpur-66-2\n",
      "https://parker-house.com/collections/dining-serving-and-display/products/dpur-47-2\n",
      "https://parker-house.com/collections/dining-serving-and-display/products/dpur-66b\n",
      "https://parker-house.com/collections/dining-serving-and-display/products/dpur-47srv\n",
      "https://parker-house.com/collections/dining-serving-and-display/products/dlod-66-2\n",
      "https://parker-house.com/collections/dining-serving-and-display/products/dsun-66b-ss\n",
      "https://parker-house.com/collections/dining-serving-and-display/products/dlod-66b\n",
      "https://parker-house.com/collections/dining-serving-and-display/products/dsun-66-2-ss\n",
      "https://parker-house.com/collections/dining-serving-and-display/products/dame-69-2-cot\n",
      "https://parker-house.com/collections/dining-serving-and-display/products/dame-66b-cot\n",
      "https://parker-house.com/collections/dining-serving-and-display/products/dame-66-2-cot\n",
      "Products found: 13\n",
      "Processing category: Dining, collection: Tables\n",
      "Scraping: https://parker-house.com/collections/tables?page=1\n",
      "https://parker-house.com/collections/tables/products/dame-48rnd-cot\n",
      "https://parker-house.com/collections/tables/products/dame-60rect-cot\n",
      "https://parker-house.com/collections/tables/products/dame-88tres-2-cot\n",
      "https://parker-house.com/collections/tables/products/dame-72ch-2-cot\n",
      "https://parker-house.com/collections/tables/products/dced_78rec-sma\n",
      "https://parker-house.com/collections/tables/products/dced_54-sma\n",
      "https://parker-house.com/collections/tables/products/ddow-60rnd\n",
      "https://parker-house.com/collections/tables/products/ddow-86rect\n",
      "https://parker-house.com/collections/tables/products/dede-84rect\n",
      "https://parker-house.com/collections/tables/products/dmon-86rect\n",
      "https://parker-house.com/collections/tables/products/desc-54rnd-2\n",
      "https://parker-house.com/collections/tables/products/desc-84rec-2\n",
      "https://parker-house.com/collections/tables/products/dlod-86ch-2\n",
      "https://parker-house.com/collections/tables/products/dpur-54rnd\n",
      "https://parker-house.com/collections/tables/products/dpur-60rnd\n",
      "https://parker-house.com/collections/tables/products/dsun-86rect-2-ss\n",
      "https://parker-house.com/collections/tables/products/dsun-74ch-2-ss\n",
      "https://parker-house.com/collections/tables/products/dsun-54rnd-ss\n",
      "Products found: 18\n",
      "Processing category: Office & Library, collection:   Executive Desks\n",
      "Scraping: https://parker-house.com/collections/executive-desks?page=1\n",
      "https://parker-house.com/collections/executive-desks/products/hun-480-3\n",
      "https://parker-house.com/collections/executive-desks/products/pur-480-2\n",
      "Products found: 2\n",
      "Processing category: Office & Library, collection:   Writing Desks\n",
      "Scraping: https://parker-house.com/collections/writing-desks?page=1\n",
      "https://parker-house.com/collections/writing-desks/products/ame-360d-cot\n",
      "https://parker-house.com/collections/writing-desks/products/ame-360d-den\n",
      "https://parker-house.com/collections/writing-desks/products/ame-360d-dov\n",
      "https://parker-house.com/collections/writing-desks/products/boc-347d\n",
      "https://parker-house.com/collections/writing-desks/products/boc-357d\n",
      "https://parker-house.com/collections/writing-desks/products/boc-485\n",
      "https://parker-house.com/collections/writing-desks/products/ele-366d-welm\n",
      "https://parker-house.com/collections/writing-desks/products/gram-9085\n",
      "https://parker-house.com/collections/writing-desks/products/hun-485\n",
      "https://parker-house.com/collections/writing-desks/products/tem-347d-gst\n",
      "https://parker-house.com/collections/writing-desks/products/tem-347d-tob\n",
      "https://parker-house.com/collections/writing-desks/products/was-485\n",
      "Products found: 12\n",
      "Processing category: Office & Library, collection:   Motorized Sit/Stand Desks\n",
      "Scraping: https://parker-house.com/collections/motorized-sit-stand-lift-desks?page=1\n",
      "https://parker-house.com/collections/motorized-sit-stand-lift-desks/products/ame-256-2-cot\n",
      "https://parker-house.com/collections/motorized-sit-stand-lift-desks/products/ame-256-2-den\n",
      "https://parker-house.com/collections/motorized-sit-stand-lift-desks/products/ame-256-2-dov\n",
      "https://parker-house.com/collections/motorized-sit-stand-lift-desks/products/boc-257-2\n",
      "Products found: 4\n",
      "Processing category: Office & Library, collection:   Modular Desks\n",
      "Scraping: https://parker-house.com/pages/modular-home-office?page=1\n",
      "Products found: 0\n",
      "Processing category: Office & Library, collection:   Workstations\n",
      "Scraping: https://parker-house.com/collections/workstations?page=1\n",
      "https://parker-house.com/collections/workstations/products/ame-42507-cot\n",
      "https://parker-house.com/collections/workstations/products/ame-350-3-dov\n",
      "https://parker-house.com/collections/workstations/products/ame-350-3-cot\n",
      "Products found: 3\n",
      "Processing category: Office & Library, collection:   Credenzas\n",
      "Scraping: https://parker-house.com/collections/credenza?page=1\n",
      "https://parker-house.com/collections/credenza/products/ame-342f-cot\n",
      "https://parker-house.com/collections/credenza/products/ame-342f-den\n",
      "https://parker-house.com/collections/credenza/products/ame-342f-dov\n",
      "https://parker-house.com/collections/credenza/products/boc-347c\n",
      "https://parker-house.com/collections/credenza/products/lod-390\n",
      "https://parker-house.com/collections/credenza/products/pur-384c\n",
      "Products found: 6\n",
      "Processing category: Office & Library, collection: Bookcases\n",
      "Scraping: https://parker-house.com/collections/bookcases?page=1\n",
      "https://parker-house.com/collections/bookcases/products/add-330\n",
      "https://parker-house.com/collections/bookcases/products/ame-330-cot\n",
      "https://parker-house.com/collections/bookcases/products/ame-330-den\n",
      "https://parker-house.com/collections/bookcases/products/ame-330-dov\n",
      "https://parker-house.com/collections/bookcases/products/boc-420\n",
      "https://parker-house.com/collections/bookcases/products/boc-430\n",
      "https://parker-house.com/collections/bookcases/products/cat-420\n",
      "https://parker-house.com/collections/bookcases/products/cat-430\n",
      "https://parker-house.com/collections/bookcases/products/dow-330\n",
      "https://parker-house.com/collections/bookcases/products/ede-330\n",
      "https://parker-house.com/collections/bookcases/products/pal-330\n",
      "https://parker-house.com/collections/bookcases/products/ser-330\n",
      "https://parker-house.com/collections/bookcases/products/hun-420\n",
      "https://parker-house.com/collections/bookcases/products/hun-440\n",
      "https://parker-house.com/collections/bookcases/products/hun-430\n",
      "https://parker-house.com/collections/bookcases/products/pur-250ap\n",
      "https://parker-house.com/collections/bookcases/products/sho-424-efw\n",
      "https://parker-house.com/collections/bookcases/products/sho-424-mdr\n",
      "https://parker-house.com/collections/bookcases/products/sho-435-mdr\n",
      "https://parker-house.com/collections/bookcases/products/tem-320-gst\n",
      "https://parker-house.com/collections/bookcases/products/tem-330-gst\n",
      "https://parker-house.com/collections/bookcases/products/tem-250p-gst\n",
      "https://parker-house.com/collections/bookcases/products/was-420\n",
      "Products found: 23\n",
      "Processing category: Office & Library, collection: File Cabinets\n",
      "Scraping: https://parker-house.com/collections/file-cabinets?page=1\n",
      "https://parker-house.com/collections/file-cabinets/products/add-374\n",
      "https://parker-house.com/collections/file-cabinets/products/ame-342f-cot\n",
      "https://parker-house.com/collections/file-cabinets/products/ame-342f-den\n",
      "https://parker-house.com/collections/file-cabinets/products/ame-342f-dov\n",
      "https://parker-house.com/collections/file-cabinets/products/ard-375\n",
      "https://parker-house.com/collections/file-cabinets/products/boc-375\n",
      "https://parker-house.com/collections/file-cabinets/products/cat-476f\n",
      "https://parker-house.com/collections/file-cabinets/products/ele-336f-welm\n",
      "https://parker-house.com/collections/file-cabinets/products/gram-9075\n",
      "https://parker-house.com/collections/file-cabinets/products/hun-475\n",
      "https://parker-house.com/collections/file-cabinets/products/pro-476f\n",
      "https://parker-house.com/collections/file-cabinets/products/pur-384c\n",
      "https://parker-house.com/collections/file-cabinets/products/pur-342f\n",
      "https://parker-house.com/collections/file-cabinets/products/sho-442f-efw\n",
      "https://parker-house.com/collections/file-cabinets/products/sho-442f-mdr\n",
      "https://parker-house.com/collections/file-cabinets/products/tem-375-gst\n",
      "Products found: 16\n",
      "Processing category: Office & Library, collection:   Leather\n",
      "Scraping: https://parker-house.com/collections/office-chairs?page=1\n",
      "https://parker-house.com/collections/office-chairs/products/dc-105-pbr\n",
      "https://parker-house.com/collections/office-chairs/products/dc-105-pgr\n",
      "https://parker-house.com/collections/office-chairs/products/dc-112-ha\n",
      "https://parker-house.com/collections/office-chairs/products/dc-122-ala\n",
      "https://parker-house.com/collections/office-chairs/products/dc-129-cyc\n",
      "https://parker-house.com/collections/office-chairs/products/dc-129-vbr\n",
      "https://parker-house.com/collections/office-chairs/products/dc-130-vby\n",
      "https://parker-house.com/collections/office-chairs/products/dc-130-vli\n",
      "Products found: 8\n",
      "Processing category: Office & Library, collection:   Fabric\n",
      "Scraping: https://parker-house.com/collections/office-chairs-fabric?page=1\n",
      "https://parker-house.com/collections/office-chairs-fabric/products/dc-300hd-caf\n",
      "https://parker-house.com/collections/office-chairs-fabric/products/dc-301-blk\n",
      "https://parker-house.com/collections/office-chairs-fabric/products/dc-312-ash\n",
      "https://parker-house.com/collections/office-chairs-fabric/products/dc-312-caf\n",
      "https://parker-house.com/collections/office-chairs-fabric/products/dc-313hd-ozo\n",
      "https://parker-house.com/collections/office-chairs-fabric/products/dc-313hd-par\n",
      "https://parker-house.com/collections/office-chairs-fabric/products/dc-314hd-cha\n",
      "https://parker-house.com/collections/office-chairs-fabric/products/dc-314hd-dk\n",
      "https://parker-house.com/collections/office-chairs-fabric/products/dc-315hd-cco\n",
      "https://parker-house.com/collections/office-chairs-fabric/products/dc-315hd-chz\n",
      "https://parker-house.com/collections/office-chairs-fabric/products/dc-316-gsi\n",
      "https://parker-house.com/collections/office-chairs-fabric/products/dc-316-gsm\n",
      "https://parker-house.com/collections/office-chairs-fabric/products/dc-317-gr\n",
      "https://parker-house.com/collections/office-chairs-fabric/products/dc-318-blk\n",
      "https://parker-house.com/collections/office-chairs-fabric/products/dc-500-meg\n",
      "https://parker-house.com/collections/office-chairs-fabric/products/dc-503-mze\n",
      "https://parker-house.com/collections/office-chairs-fabric/products/dc-504-hmc\n",
      "https://parker-house.com/collections/office-chairs-fabric/products/dc-504-hmg\n",
      "https://parker-house.com/collections/office-chairs-fabric/products/dc-504-hmi\n",
      "https://parker-house.com/collections/office-chairs-fabric/products/dc-505-bkn\n",
      "https://parker-house.com/collections/office-chairs-fabric/products/dc-506-adb\n",
      "https://parker-house.com/collections/office-chairs-fabric/products/dc-506-auo\n",
      "https://parker-house.com/collections/office-chairs-fabric/products/dc-506-mrb\n",
      "Products found: 23\n",
      "Processing category: Bedroom, collection: Americana Modern Bedroom\n",
      "Scraping: https://parker-house.com/collections/americana-modern/bedroom?page=1\n",
      "https://parker-house.com/collections/americana-modern/products/ame-51303-cot\n",
      "https://parker-house.com/collections/americana-modern/products/ame-52232-cot\n",
      "https://parker-house.com/collections/americana-modern/products/ame-42507-cot\n",
      "https://parker-house.com/collections/americana-modern/products/ame-21689-cot\n",
      "https://parker-house.com/collections/americana-modern/products/ame-41405-cot\n",
      "https://parker-house.com/collections/americana-modern/products/ame-3144-cot\n",
      "https://parker-house.com/collections/americana-modern/products/bame-1150-3-cot\n",
      "https://parker-house.com/collections/americana-modern/products/bame-1266-3-cot\n",
      "https://parker-house.com/collections/americana-modern/products/bame-1250-3-cot\n",
      "https://parker-house.com/collections/americana-modern/products/bame-1166-3-cot\n",
      "Products found: 10\n",
      "Processing category: Bedroom, collection: Escape Bedroom\n",
      "Scraping: https://parker-house.com/collections/escape-bedroom?page=1\n",
      "https://parker-house.com/collections/escape-bedroom/products/besc-1266-3\n",
      "https://parker-house.com/collections/escape-bedroom/products/besc-1150-3\n",
      "https://parker-house.com/collections/escape-bedroom/products/besc-1250-3\n",
      "https://parker-house.com/collections/escape-bedroom/products/besc-41385\n",
      "https://parker-house.com/collections/escape-bedroom/products/besc-2131-2\n",
      "https://parker-house.com/collections/escape-bedroom/products/besc-1166-3\n",
      "https://parker-house.com/collections/escape-bedroom/products/besc-9000-3-fyrr\n",
      "https://parker-house.com/collections/escape-bedroom/products/besc-8000-3-fyrr\n",
      "https://parker-house.com/collections/escape-bedroom/products/besc-51302\n",
      "Products found: 9\n",
      "Processing category: Bedroom, collection: Pure Modern Bedroom\n",
      "Scraping: https://parker-house.com/collections/pure-modern-bedroom?page=1\n",
      "https://parker-house.com/collections/pure-modern-bedroom/products/bpur-1166-3\n",
      "https://parker-house.com/collections/pure-modern-bedroom/products/bpur-2131-2\n",
      "https://parker-house.com/collections/pure-modern-bedroom/products/bpur-1266-3\n",
      "https://parker-house.com/collections/pure-modern-bedroom/products/bpur-4405\n",
      "https://parker-house.com/collections/pure-modern-bedroom/products/bpur-3154\n",
      "https://parker-house.com/collections/pure-modern-bedroom/products/bpur-1266-4\n",
      "https://parker-house.com/collections/pure-modern-bedroom/products/bpur-1250-4\n",
      "https://parker-house.com/collections/pure-modern-bedroom/products/bpur-1250-3\n",
      "https://parker-house.com/collections/pure-modern-bedroom/products/bpur-21706\n",
      "https://parker-house.com/collections/pure-modern-bedroom/products/bpur-1150-3\n",
      "https://parker-house.com/collections/pure-modern-bedroom/products/bpur-51282\n",
      "Products found: 11\n",
      "Processing category: Bedroom, collection: Storage Benches\n",
      "Scraping: https://parker-house.com/collections/benches?page=1\n",
      "https://parker-house.com/collections/benches/products/dced_1218-sma\n",
      "Products found: 1\n",
      "Scraping completed. Results saved to utilities/products-links.csv\n"
     ]
    }
   ],
   "source": [
    "import csv\n",
    "import requests\n",
    "from bs4 import BeautifulSoup\n",
    "import os\n",
    "\n",
    "def scrape_all_products(base_url):\n",
    "    current_page = 1\n",
    "    products = []\n",
    "\n",
    "    while True:\n",
    "        # Request the current page\n",
    "        url = f\"{base_url}?page={current_page}\"\n",
    "        print(f\"Scraping: {url}\")\n",
    "        req = requests.get(url)\n",
    "        soup = BeautifulSoup(req.content, \"html.parser\")\n",
    "\n",
    "        # Find all product links on the current page\n",
    "        links = soup.find_all('a')\n",
    "        for link in links:\n",
    "            href = link.get(\"href\")  # Get the href attribute\n",
    "            if href and href.startswith(\"/collections/\") and \"/products/\" in href:\n",
    "                full_url = \"https://parker-house.com\" + href\n",
    "                if full_url not in products:  # Avoid duplicates\n",
    "                    products.append(full_url)\n",
    "                    print(full_url)\n",
    "\n",
    "        # Check for the \"Next\" page link\n",
    "        next_page = soup.find(\"span\", class_=\"next\")\n",
    "        if next_page and next_page.find(\"a\"):\n",
    "            current_page += 1  # Increment to the next page\n",
    "        else:\n",
    "            break  # No more pages, exit the loop\n",
    "\n",
    "    return products\n",
    "\n",
    "def process_collection_products(collection, all_products):\n",
    "    category_name = collection['category_name']\n",
    "    subcategory_name = collection[\"subcategory\"]\n",
    "    collection_name = collection['collection_name']\n",
    "    collection_link = collection['collection_link']\n",
    "\n",
    "    print(f\"Processing category: {category_name}, collection: {collection_name}\")\n",
    "\n",
    "    # Scrape all products for the current collection\n",
    "    product_links = scrape_all_products(collection_link)\n",
    "    print(f\"Products found: {len(product_links)}\")\n",
    "\n",
    "    # Add product data to the list\n",
    "    for link in product_links:\n",
    "        all_products.append({\n",
    "            'category_name': category_name,\n",
    "            'subcategory_name': subcategory_name,\n",
    "            'collection_name': collection_name,\n",
    "            'product_link': link\n",
    "        })\n",
    "\n",
    "def get_collections_products():\n",
    "    # Ensure directories exist\n",
    "    input_dir = 'utilities'\n",
    "    os.makedirs(input_dir, exist_ok=True)\n",
    "\n",
    "\n",
    "    input_file = os.path.join(input_dir, 'category-collection.csv')\n",
    "    output_file = os.path.join(input_dir, 'products-links.csv')\n",
    "\n",
    "    # Check if the input file exists; if not, create a sample file\n",
    "    if not os.path.exists(input_file):\n",
    "        print(f\"{input_file} not found. Creating a sample file...\")\n",
    "        with open(input_file, 'w', encoding='utf-8', newline='') as file:\n",
    "            writer = csv.DictWriter(file, fieldnames=['category_name', 'subcategory', 'collection_name', 'collection_link'])\n",
    "            writer.writeheader()\n",
    "            writer.writerow({\n",
    "                'category_name': 'Sample Category',\n",
    "                'subcategory': 'Sample Subcategory',\n",
    "                'collection_name': 'Sample Collection',\n",
    "                'collection_link': 'https://example.com/collections/sample-collection'\n",
    "            })\n",
    "        print(f\"Sample file created at {input_file}. Please update it with real data and rerun the script.\")\n",
    "        return\n",
    "\n",
    "    all_products = []  # Initialize the list to hold all product data\n",
    "\n",
    "    # Read the input CSV file\n",
    "    with open(input_file, 'r', encoding='utf-8') as file:\n",
    "        reader = csv.DictReader(file)\n",
    "        collections = [row for row in reader]\n",
    "\n",
    "    # Process each collection\n",
    "    for collection in collections:\n",
    "        process_collection_products(collection, all_products)\n",
    "\n",
    "    # Write the output to a CSV file\n",
    "    with open(output_file, 'w', encoding='utf-8', newline='') as file:\n",
    "        writer = csv.DictWriter(file, fieldnames=['category_name', 'subcategory_name', 'collection_name', 'product_link'])\n",
    "        writer.writeheader()\n",
    "        writer.writerows(all_products)\n",
    "\n",
    "    print(\"Scraping completed. Results saved to\", output_file)\n",
    "\n",
    "# Run the scraping process\n",
    "get_collections_products()\n"
   ]
  },
  {
   "cell_type": "markdown",
   "metadata": {},
   "source": [
    "## Product page scraping"
   ]
  },
  {
   "cell_type": "code",
   "execution_count": 8,
   "metadata": {},
   "outputs": [],
   "source": [
    "product_title = soup.find(\"h1\", class_ = \"product_name\").text.strip()"
   ]
  },
  {
   "cell_type": "code",
   "execution_count": 9,
   "metadata": {},
   "outputs": [
    {
     "data": {
      "text/plain": [
       "'AMERICANA MODERN BEDROOM 3 Drawer Nightstand with charging station'"
      ]
     },
     "execution_count": 9,
     "metadata": {},
     "output_type": "execute_result"
    }
   ],
   "source": [
    "product_title"
   ]
  },
  {
   "cell_type": "code",
   "execution_count": 10,
   "metadata": {},
   "outputs": [],
   "source": [
    "sku = soup.find(\"p\", class_ = \"sku\").text.strip()"
   ]
  },
  {
   "cell_type": "code",
   "execution_count": 11,
   "metadata": {},
   "outputs": [
    {
     "data": {
      "text/plain": [
       "'BAME#51303-COT'"
      ]
     },
     "execution_count": 11,
     "metadata": {},
     "output_type": "execute_result"
    }
   ],
   "source": [
    "sku"
   ]
  },
  {
   "cell_type": "code",
   "execution_count": 12,
   "metadata": {},
   "outputs": [],
   "source": [
    "description = soup.find(\"div\", id = \"tabs-3\")\n",
    "if description:\n",
    "    description = description.find(\"p\").text.strip()"
   ]
  },
  {
   "cell_type": "code",
   "execution_count": 13,
   "metadata": {},
   "outputs": [
    {
     "data": {
      "text/plain": [
       "'This three-drawer nightstand is a charming and functional piece of furniture that brings timeless style to your bedroom. The fresh hand-painted Cotton finish with contrasting Weathered Natural top is accented by the solid-metal custom hardware in authentic Burnished Bronze, creating a warm and inviting atmosphere. Crafted from the finest materials, including poplar solids, birch veneers, and oak veneer tops, this nightstand is designed to last for years to come.'"
      ]
     },
     "execution_count": 13,
     "metadata": {},
     "output_type": "execute_result"
    }
   ],
   "source": [
    "description"
   ]
  },
  {
   "cell_type": "code",
   "execution_count": 16,
   "metadata": {},
   "outputs": [],
   "source": [
    "products_img = soup.find_all(\"a\", class_ = \"fancybox\")\n",
    "\n",
    "if products_img:\n",
    "    products_images = list(set([\"https:\" + item.get(\"href\") for item in products_img]))"
   ]
  },
  {
   "cell_type": "code",
   "execution_count": 17,
   "metadata": {},
   "outputs": [
    {
     "data": {
      "text/plain": [
       "['https://parker-house.com/cdn/shop/products/AME_51303-COT_top_silo_2048x.jpg?v=1685113049',\n",
       " 'https://parker-house.com/cdn/shop/products/AME_51303-COT_back_angle_silo_2048x.jpg?v=1685113049',\n",
       " 'https://parker-house.com/cdn/shop/products/AME_51303-COT_back_silo_2048x.jpg?v=1685113049',\n",
       " 'https://parker-house.com/cdn/shop/products/AME_51303-COT_side_silo_2048x.jpg?v=1685113049',\n",
       " 'https://parker-house.com/cdn/shop/files/AME_51303-COT--cutout_2048x.jpg?v=1685113049',\n",
       " 'https://parker-house.com/cdn/shop/products/AME_51303-COT_front_silo_2048x.jpg?v=1685113049',\n",
       " 'https://parker-house.com/cdn/shop/products/AME_51303-COT_angle_silo_2048x.jpg?v=1685113049',\n",
       " 'https://parker-house.com/cdn/shop/products/AMERICANA_Bedroom_LAM_a19f2d85-b8c4-4b3b-b3c9-ef504d67eada_2048x.jpg?v=1685113049']"
      ]
     },
     "execution_count": 17,
     "metadata": {},
     "output_type": "execute_result"
    }
   ],
   "source": [
    "products_images"
   ]
  },
  {
   "cell_type": "code",
   "execution_count": 20,
   "metadata": {},
   "outputs": [
    {
     "name": "stderr",
     "output_type": "stream",
     "text": [
      "/tmp/ipykernel_8693/2695367613.py:2: DeprecationWarning: The 'text' argument to find()-type methods is deprecated. Use 'string' instead.\n",
      "  width = soup.find(\"td\", text=\"Width\").find_next_sibling(\"td\").text.strip()\n",
      "/tmp/ipykernel_8693/2695367613.py:3: DeprecationWarning: The 'text' argument to find()-type methods is deprecated. Use 'string' instead.\n",
      "  depth = soup.find(\"td\", text=\"Depth\").find_next_sibling(\"td\").text.strip()\n",
      "/tmp/ipykernel_8693/2695367613.py:4: DeprecationWarning: The 'text' argument to find()-type methods is deprecated. Use 'string' instead.\n",
      "  height = soup.find(\"td\", text=\"Height\").find_next_sibling(\"td\").text.strip()\n"
     ]
    }
   ],
   "source": [
    "# Extract data\n",
    "sku = soup.find(\"p\", class_ = \"sku\").text.strip()\n",
    "\n",
    "product_title = soup.find(\"h1\", class_ = \"product_name\").text.strip()\n",
    "\n",
    "description = soup.find(\"div\", id = \"tabs-3\")\n",
    "if description:\n",
    "    description = description.find(\"p\").text.strip()\n",
    "\n",
    "\n",
    "products_img = soup.find_all(\"a\", class_ = \"fancybox\")\n",
    "if products_img:\n",
    "    products_images = list(set([\"https:\" + item.get(\"href\") for item in products_img]))\n",
    "\n",
    "width = soup.find(\"td\", text=\"Width\").find_next_sibling(\"td\").text.strip()\n",
    "\n",
    "depth = soup.find(\"td\", text=\"Depth\").find_next_sibling(\"td\").text.strip()\n",
    "\n",
    "height = soup.find(\"td\", text=\"Height\").find_next_sibling(\"td\").text.strip()\n",
    "\n",
    "finish = soup.find(\"div\", id=\"tabs-5\").find(\"p\").text.strip().split(\"Material:\")[0].replace(\"Finish:\", \"\").strip()\n",
    "\n",
    "material = soup.find(\"div\", id=\"tabs-5\").find(\"p\").text.strip().split(\"Material:\")[1].strip()\n",
    "\n",
    "features = [li.text.strip() for li in soup.find(\"div\", id=\"tabs-6\").find_all(\"li\")]\n",
    "\n"
   ]
  },
  {
   "cell_type": "code",
   "execution_count": 21,
   "metadata": {},
   "outputs": [
    {
     "data": {
      "text/plain": [
       "'30.5 in.'"
      ]
     },
     "execution_count": 21,
     "metadata": {},
     "output_type": "execute_result"
    }
   ],
   "source": [
    "width"
   ]
  },
  {
   "cell_type": "code",
   "execution_count": 22,
   "metadata": {},
   "outputs": [
    {
     "data": {
      "text/plain": [
       "'17 in.'"
      ]
     },
     "execution_count": 22,
     "metadata": {},
     "output_type": "execute_result"
    }
   ],
   "source": [
    "depth"
   ]
  },
  {
   "cell_type": "code",
   "execution_count": 23,
   "metadata": {},
   "outputs": [
    {
     "data": {
      "text/plain": [
       "'29 in.'"
      ]
     },
     "execution_count": 23,
     "metadata": {},
     "output_type": "execute_result"
    }
   ],
   "source": [
    "height"
   ]
  },
  {
   "cell_type": "code",
   "execution_count": 24,
   "metadata": {},
   "outputs": [
    {
     "data": {
      "text/plain": [
       "'Cotton With Weathered Natural Top'"
      ]
     },
     "execution_count": 24,
     "metadata": {},
     "output_type": "execute_result"
    }
   ],
   "source": [
    "finish"
   ]
  },
  {
   "cell_type": "code",
   "execution_count": 25,
   "metadata": {},
   "outputs": [
    {
     "data": {
      "text/plain": [
       "'Poplar Solids Oak & Birch Veneers'"
      ]
     },
     "execution_count": 25,
     "metadata": {},
     "output_type": "execute_result"
    }
   ],
   "source": [
    "material"
   ]
  },
  {
   "cell_type": "code",
   "execution_count": 26,
   "metadata": {},
   "outputs": [
    {
     "data": {
      "text/plain": [
       "['Three generously sized drawers make it easy to keep bedtime essentials close at hand',\n",
       " 'Innovative touch-lighting adds nightlight effect to base',\n",
       " 'Integrated USB/ USB-C charger keeps phones and devices powered',\n",
       " 'Fresh hand-painted Cotton finish with contrasting Weathered Natural top offers timeless charm',\n",
       " 'Solid-metal custom hardware in authentic Burnished Bronze',\n",
       " 'Crafted of poplar solids with birch veneers and oak veneer tops',\n",
       " 'Pairs beautifully with Americana Modern beds',\n",
       " 'Metal ball bearing drawer glides',\n",
       " 'Tapered legs create an eye-catching silhouette',\n",
       " 'Select woods are kiln-dried']"
      ]
     },
     "execution_count": 26,
     "metadata": {},
     "output_type": "execute_result"
    }
   ],
   "source": [
    "features"
   ]
  },
  {
   "cell_type": "code",
   "execution_count": 27,
   "metadata": {},
   "outputs": [
    {
     "name": "stdout",
     "output_type": "stream",
     "text": [
      "SKU :  BAME#51303-COT\n"
     ]
    },
    {
     "name": "stderr",
     "output_type": "stream",
     "text": [
      "/tmp/ipykernel_8693/1434289279.py:25: DeprecationWarning: The 'text' argument to find()-type methods is deprecated. Use 'string' instead.\n",
      "  width = soup.find(\"td\", text=\"Width\").find_next_sibling(\"td\").text.strip()\n",
      "/tmp/ipykernel_8693/1434289279.py:30: DeprecationWarning: The 'text' argument to find()-type methods is deprecated. Use 'string' instead.\n",
      "  depth = soup.find(\"td\", text=\"Depth\").find_next_sibling(\"td\").text.strip()\n",
      "/tmp/ipykernel_8693/1434289279.py:35: DeprecationWarning: The 'text' argument to find()-type methods is deprecated. Use 'string' instead.\n",
      "  height = soup.find(\"td\", text=\"Height\").find_next_sibling(\"td\").text.strip()\n"
     ]
    }
   ],
   "source": [
    "# Extract data with try-except for each selector\n",
    "try:\n",
    "    sku = soup.find(\"p\", class_=\"sku\").text.strip()\n",
    "    print(\"SKU : \", sku)\n",
    "except AttributeError:\n",
    "    sku = \"N/B\"\n",
    "\n",
    "try:\n",
    "    product_title = soup.find(\"h1\", class_=\"product_name\").text.strip()\n",
    "except AttributeError:\n",
    "    product_title = \"N/B\"\n",
    "\n",
    "try:\n",
    "    description = soup.find(\"div\", id=\"tabs-3\").find(\"p\").text.strip()\n",
    "except AttributeError:\n",
    "    description = \"N/B\"\n",
    "\n",
    "try:\n",
    "    products_img = soup.find_all(\"a\", class_=\"fancybox\")\n",
    "    products_images = list(set([\"https:\" + item.get(\"href\") for item in products_img]))\n",
    "except AttributeError:\n",
    "    products_images = \"N/B\"\n",
    "\n",
    "try:\n",
    "    width = soup.find(\"td\", text=\"Width\").find_next_sibling(\"td\").text.strip()\n",
    "except AttributeError:\n",
    "    width = \"N/B\"\n",
    "\n",
    "try:\n",
    "    depth = soup.find(\"td\", text=\"Depth\").find_next_sibling(\"td\").text.strip()\n",
    "except AttributeError:\n",
    "    depth = \"N/B\"\n",
    "\n",
    "try:\n",
    "    height = soup.find(\"td\", text=\"Height\").find_next_sibling(\"td\").text.strip()\n",
    "except AttributeError:\n",
    "    height = \"N/B\"\n",
    "\n",
    "try:\n",
    "    finish = soup.find(\"div\", id=\"tabs-5\").find(\"p\").text.strip().split(\"Material:\")[0].replace(\"Finish:\", \"\").strip()\n",
    "except (AttributeError, IndexError):\n",
    "    finish = \"N/B\"\n",
    "\n",
    "try:\n",
    "    material = soup.find(\"div\", id=\"tabs-5\").find(\"p\").text.strip().split(\"Material:\")[1].strip()\n",
    "except (AttributeError, IndexError):\n",
    "    material = \"N/B\"\n",
    "\n",
    "try:\n",
    "    features = [li.text.strip() for li in soup.find(\"div\", id=\"tabs-6\").find_all(\"li\")]\n",
    "except AttributeError:\n",
    "    features = \"N/B\"\n"
   ]
  },
  {
   "cell_type": "code",
   "execution_count": 6,
   "metadata": {},
   "outputs": [],
   "source": [
    "link = \"https://parker-house.com/collections/freemotion-included/products/mque-812gsph-p25-upmu\"\n",
    "\n",
    "sku = link.split(\"/\")[-1].upper()"
   ]
  },
  {
   "cell_type": "code",
   "execution_count": null,
   "metadata": {},
   "outputs": [],
   "source": []
  },
  {
   "cell_type": "code",
   "execution_count": 35,
   "metadata": {},
   "outputs": [
    {
     "name": "stdout",
     "output_type": "stream",
     "text": [
      "Finish: Cotton With Weathered Natural Top\n",
      "Material: Poplar Solids Oak & Birch Veneers\n"
     ]
    },
    {
     "name": "stderr",
     "output_type": "stream",
     "text": [
      "/tmp/ipykernel_28887/1321582189.py:3: DeprecationWarning: The 'text' argument to find()-type methods is deprecated. Use 'string' instead.\n",
      "  finish = soup.find(\"em\", text=\"Finish: \").find_parent(\"b\").next_sibling.strip()\n",
      "/tmp/ipykernel_28887/1321582189.py:8: DeprecationWarning: The 'text' argument to find()-type methods is deprecated. Use 'string' instead.\n",
      "  material = soup.find(\"em\", text=\"Material: \").find_parent(\"b\").next_sibling.strip()\n"
     ]
    }
   ],
   "source": [
    "\n",
    "\n",
    "# Initialize variables\n",
    "try:\n",
    "    finish = soup.find(\"em\", text=\"Finish: \").find_parent(\"b\").next_sibling.strip()\n",
    "except AttributeError:\n",
    "    finish = \"\"\n",
    "\n",
    "try:\n",
    "    material = soup.find(\"em\", text=\"Material: \").find_parent(\"b\").next_sibling.strip()\n",
    "except AttributeError:\n",
    "    material = \"\"\n",
    "\n",
    "# Output the results\n",
    "print(\"Finish:\", finish)\n",
    "print(\"Material:\", material)\n"
   ]
  },
  {
   "cell_type": "code",
   "execution_count": 36,
   "metadata": {},
   "outputs": [
    {
     "name": "stderr",
     "output_type": "stream",
     "text": [
      "/tmp/ipykernel_28887/2427238136.py:2: DeprecationWarning: The 'text' argument to find()-type methods is deprecated. Use 'string' instead.\n",
      "  description_id = soup.find(\"a\", text=\"Description\")\n"
     ]
    }
   ],
   "source": [
    "\n",
    "try:\n",
    "    description_id = soup.find(\"a\", text=\"Description\")\n",
    "    description = soup.find(\"div\", id=description_id).find(\"p\").text.strip()\n",
    "except AttributeError:\n",
    "    description = \"\""
   ]
  },
  {
   "cell_type": "code",
   "execution_count": 43,
   "metadata": {},
   "outputs": [
    {
     "name": "stdout",
     "output_type": "stream",
     "text": [
      "<a href=\"#tabs-3\">Description</a>\n",
      "tabs-3\n"
     ]
    },
    {
     "name": "stderr",
     "output_type": "stream",
     "text": [
      "/tmp/ipykernel_28887/753738385.py:2: DeprecationWarning: The 'text' argument to find()-type methods is deprecated. Use 'string' instead.\n",
      "  description_id = soup.find(\"a\", text=\"Description\")\n"
     ]
    }
   ],
   "source": [
    "\n",
    "try:\n",
    "    description_id = soup.find(\"a\", text=\"Description\")\n",
    "    # print(description_id)\n",
    "    if description_id:\n",
    "        description_id = description_id.get(\"href\").replace(\"#\", \"\")\n",
    "        # print(description_id)\n",
    "        description = soup.find(\"div\", id=description_id).find(\"p\").text.strip()\n",
    "    else:\n",
    "        description = \"\"\n",
    "except AttributeError:\n",
    "    description = \"\""
   ]
  },
  {
   "cell_type": "code",
   "execution_count": 44,
   "metadata": {},
   "outputs": [
    {
     "data": {
      "text/plain": [
       "'This three-drawer nightstand is a charming and functional piece of furniture that brings timeless style to your bedroom. The fresh hand-painted Cotton finish with contrasting Weathered Natural top is accented by the solid-metal custom hardware in authentic Burnished Bronze, creating a warm and inviting atmosphere. Crafted from the finest materials, including poplar solids, birch veneers, and oak veneer tops, this nightstand is designed to last for years to come.'"
      ]
     },
     "execution_count": 44,
     "metadata": {},
     "output_type": "execute_result"
    }
   ],
   "source": [
    "description"
   ]
  },
  {
   "cell_type": "code",
   "execution_count": 45,
   "metadata": {},
   "outputs": [
    {
     "name": "stdout",
     "output_type": "stream",
     "text": [
      "tabs-6\n"
     ]
    },
    {
     "name": "stderr",
     "output_type": "stream",
     "text": [
      "/tmp/ipykernel_28887/3498656398.py:2: DeprecationWarning: The 'text' argument to find()-type methods is deprecated. Use 'string' instead.\n",
      "  features_id = soup.find(\"a\", text=\"Features\")\n"
     ]
    }
   ],
   "source": [
    "try:\n",
    "    features_id = soup.find(\"a\", text=\"Features\")\n",
    "    if features_id:\n",
    "        features_id = features_id.get(\"href\").replace(\"#\", \"\")\n",
    "        # print(features_id)\n",
    "        features = [li.text.strip() for li in soup.find(\"div\", id=features_id).find_all(\"li\")]\n",
    "except AttributeError:\n",
    "    features = \"\""
   ]
  },
  {
   "cell_type": "code",
   "execution_count": 46,
   "metadata": {},
   "outputs": [
    {
     "data": {
      "text/plain": [
       "['Three generously sized drawers make it easy to keep bedtime essentials close at hand',\n",
       " 'Innovative touch-lighting adds nightlight effect to base',\n",
       " 'Integrated USB/ USB-C charger keeps phones and devices powered',\n",
       " 'Fresh hand-painted Cotton finish with contrasting Weathered Natural top offers timeless charm',\n",
       " 'Solid-metal custom hardware in authentic Burnished Bronze',\n",
       " 'Crafted of poplar solids with birch veneers and oak veneer tops',\n",
       " 'Pairs beautifully with Americana Modern beds',\n",
       " 'Metal ball bearing drawer glides',\n",
       " 'Tapered legs create an eye-catching silhouette',\n",
       " 'Select woods are kiln-dried']"
      ]
     },
     "execution_count": 46,
     "metadata": {},
     "output_type": "execute_result"
    }
   ],
   "source": [
    "features"
   ]
  },
  {
   "cell_type": "code",
   "execution_count": 5,
   "metadata": {},
   "outputs": [
    {
     "name": "stdout",
     "output_type": "stream",
     "text": [
      "SKU value: \n"
     ]
    },
    {
     "name": "stderr",
     "output_type": "stream",
     "text": [
      "/tmp/ipykernel_9985/2989615887.py:31: DeprecationWarning: The 'text' argument to find()-type methods is deprecated. Use 'string' instead.\n",
      "  sku_strong = soup.find(\"strong\", text=\"SKU:&nbsp;\")\n"
     ]
    }
   ],
   "source": [
    "from bs4 import BeautifulSoup\n",
    "\n",
    "html_content = \"\"\"\n",
    "<p>\n",
    "  <b>\n",
    "    <em>\n",
    "      Cover:\n",
    "    </em>\n",
    "  </b>\n",
    "  Soft Ivory\n",
    "  <br/>\n",
    "  <b>\n",
    "    <em>\n",
    "      Material:\n",
    "    </em>\n",
    "  </b>\n",
    "  90% Polyester 10% PU (W)\n",
    "  <br/>\n",
    "  <em>\n",
    "    <strong>\n",
    "      SKU:&nbsp;\n",
    "    </strong>\n",
    "  </em>\n",
    "  MGEM#812LIFT-SFIV\n",
    "</p>\n",
    "\"\"\"\n",
    "\n",
    "soup = BeautifulSoup(html_content, \"html.parser\")\n",
    "\n",
    "# Locate the <strong> tag with the text \"SKU:\"\n",
    "sku_strong = soup.find(\"strong\", text=\"SKU:&nbsp;\")\n",
    "if sku_strong:\n",
    "    # Get the parent <em> tag\n",
    "    sku_em = sku_strong.find_parent(\"em\")\n",
    "    if sku_em:\n",
    "        # Get the next string after the <em> tag\n",
    "        sku = sku_em.find_next(string=True).strip()\n",
    "    else:\n",
    "        sku = \"\"\n",
    "else:\n",
    "    sku = \"\"\n",
    "\n",
    "print(\"SKU value:\", sku)\n"
   ]
  },
  {
   "cell_type": "code",
   "execution_count": 10,
   "metadata": {},
   "outputs": [
    {
     "name": "stderr",
     "output_type": "stream",
     "text": [
      "/tmp/ipykernel_9985/3195596734.py:1: DeprecationWarning: The 'text' argument to find()-type methods is deprecated. Use 'string' instead.\n",
      "  sku = soup.find(\"strong\", text=\"SKU:\")\n"
     ]
    }
   ],
   "source": [
    "sku = soup.find(\"strong\", text=\"SKU:\")"
   ]
  },
  {
   "cell_type": "code",
   "execution_count": 11,
   "metadata": {},
   "outputs": [],
   "source": [
    "sku"
   ]
  },
  {
   "cell_type": "code",
   "execution_count": 16,
   "metadata": {},
   "outputs": [
    {
     "name": "stdout",
     "output_type": "stream",
     "text": [
      "SKU value: #dynamic-checkout-cart {\n",
      "  container-type: inline-size;\n",
      "  container-name: dcc;\n",
      "  width: 100%;\n",
      "}\n",
      "\n",
      ".wallet-cart-grid {\n",
      "  --wallet-button-height-horizontal: clamp(\n",
      "    25px,\n",
      "    var(\n",
      "      --shopify-accelerated-checkout-button-inline-size,\n",
      "      42px\n",
      "    ),\n",
      "    55px\n",
      "  );\n",
      "  --wallet-button-height-vertical: clamp(\n",
      "    25px,\n",
      "    var(\n",
      "      --shopify-accelerated-checkout-button-block-size,\n",
      "      54px\n",
      "    ),\n",
      "    55px\n",
      "  );\n",
      "  --wallet-button-width-horizontal: 150px;\n",
      "  --wallet-button-width-vertical: 100%;\n",
      "  --wallet-button-border-radius: var(\n",
      "    --shopify-accelerated-checkout-button-border-radius,\n",
      "    4px\n",
      "  );\n",
      "  --wallet-grid-margin-horizontal: 0 -5px -5px -5px;\n",
      "  --wallet-button-container-margin-horizontal: 0 5px 5px;\n",
      "  --wallet-button-container-margin-vertical: var(--shopify-accelerated-checkout-row-gap, 8px) 0 0;\n",
      "}\n",
      "\n",
      "@keyframes acceleratedCheckoutLoadingSkeleton {\n",
      "  50% {opacity: var(--shopify-accelerated-checkout-skeleton-animation-opacity-start, 1);}\n",
      "  75% {opacity: var(--shopify-accelerated-checkout-skeleton-animation-opacity-end, 0.5);}\n",
      "  100% {opacity: var(--shopify-accelerated-checkout-skeleton-animation-opacity-start, 1);}\n",
      "}\n",
      "\n",
      ".wallet-cart-button__skeleton {\n",
      "  animation: acceleratedCheckoutLoadingSkeleton var(--shopify-accelerated-checkout-skeleton-animation-duration, 4s) var(--shopify-accelerated-checkout-skeleton-animation-timing-function, ease) infinite;\n",
      "  animation-delay: -0.168s;\n",
      "  background-color: var(--shopify-accelerated-checkout-skeleton-background-color, #dedede);\n",
      "  box-sizing: border-box;\n",
      "  text-decoration: none !important;\n",
      "}\n",
      "\n",
      ".wallet-cart-grid {\n",
      "  margin: var(--wallet-grid-margin-horizontal);\n",
      "  padding: 0;\n",
      "  display: flex;\n",
      "  flex-direction: row;\n",
      "  justify-content: var(--shopify-accelerated-checkout-inline-alignment, start);\n",
      "  gap: 0 !important;\n",
      "}\n",
      "\n",
      ".wallet-cart-grid--skeleton {\n",
      "  justify-content: var(--shopify-accelerated-checkout-inline-alignment, inherit);\n",
      "}\n",
      "\n",
      ".wallet-cart-button-container {\n",
      "  position: relative;\n",
      "  margin: var(--wallet-button-container-margin-horizontal);\n",
      "}\n",
      "\n",
      ".wallet-cart-button-container,\n",
      ".wallet-cart-button {\n",
      "  width: var(--wallet-button-width-horizontal);\n",
      "  height: var(--wallet-button-height-horizontal);\n",
      "  border-radius: var(--wallet-button-border-radius);\n",
      "  list-style-type: none !important;\n",
      "  text-align: center;\n",
      "  flex-shrink: 0;\n",
      "  flex-grow: 0;\n",
      "}\n",
      "\n",
      ".additional-checkout-buttons--vertical .wallet-cart-grid {\n",
      "  justify-content: start;\n",
      "  flex-direction: column;\n",
      "  margin: 0;\n",
      "}\n",
      ".additional-checkout-buttons--vertical .wallet-cart-grid .wallet-cart-button-container {\n",
      "  width: var(--wallet-button-width-vertical);\n",
      "  height: var(--wallet-button-height-vertical);\n",
      "  margin: var(--wallet-button-container-margin-vertical);\n",
      "}\n",
      ".additional-checkout-buttons--vertical .wallet-cart-grid .wallet-cart-button-container:first-child {\n",
      "  margin-top: 0;\n",
      "}\n",
      ".additional-checkout-buttons--vertical .wallet-cart-grid .wallet-cart-button {\n",
      "  width: var(--wallet-button-width-vertical);\n",
      "  height: var(--wallet-button-height-vertical);\n",
      "}\n",
      "\n",
      ".additional-checkout-buttons--horizontal .wallet-cart-grid .wallet-cart-button-container,\n",
      ".additional-checkout-buttons--horizontal .wallet-cart-grid .wallet-cart-button {\n",
      "  width: var(--wallet-button-width-horizontal) !important;\n",
      "  height: var(--wallet-button-height-horizontal) !important;\n",
      "  border-radius: var(--wallet-button-border-radius) !important;\n",
      "}\n",
      "\n",
      "@container dcc (width >= 150px) and (width <= 500px) {\n",
      "  .wallet-cart-grid:has(>.wallet-cart-button-container:nth-of-type(1)).wallet-cart-grid:not(:has(>.wallet-cart-button-container:nth-of-type(2))) {\n",
      "    justify-content: start;\n",
      "    flex-direction: column;\n",
      "    margin: 0;\n",
      "  }\n",
      "  .wallet-cart-grid:has(>.wallet-cart-button-container:nth-of-type(1)).wallet-cart-grid:not(:has(>.wallet-cart-button-container:nth-of-type(2))) .wallet-cart-button-container {\n",
      "    width: var(--wallet-button-width-vertical);\n",
      "    height: var(--wallet-button-height-vertical);\n",
      "    margin: var(--wallet-button-container-margin-vertical);\n",
      "  }\n",
      "  .wallet-cart-grid:has(>.wallet-cart-button-container:nth-of-type(1)).wallet-cart-grid:not(:has(>.wallet-cart-button-container:nth-of-type(2))) .wallet-cart-button-container:first-child {\n",
      "    margin-top: 0;\n",
      "  }\n",
      "  .wallet-cart-grid:has(>.wallet-cart-button-container:nth-of-type(1)).wallet-cart-grid:not(:has(>.wallet-cart-button-container:nth-of-type(2))) .wallet-cart-button {\n",
      "    width: var(--wallet-button-width-vertical);\n",
      "    height: var(--wallet-button-height-vertical);\n",
      "  }\n",
      "}\n",
      "\n",
      "@container dcc (width <= 310px) {\n",
      "  .wallet-cart-grid:has(>.wallet-cart-button-container:nth-of-type(2)).wallet-cart-grid:not(:has(>.wallet-cart-button-container:nth-of-type(3))) {\n",
      "    justify-content: start;\n",
      "    flex-direction: column;\n",
      "    margin: 0;\n",
      "  }\n",
      "  .wallet-cart-grid:has(>.wallet-cart-button-container:nth-of-type(2)).wallet-cart-grid:not(:has(>.wallet-cart-button-container:nth-of-type(3))) .wallet-cart-button-container {\n",
      "    width: var(--wallet-button-width-vertical);\n",
      "    height: var(--wallet-button-height-vertical);\n",
      "    margin: var(--wallet-button-container-margin-vertical);\n",
      "  }\n",
      "  .wallet-cart-grid:has(>.wallet-cart-button-container:nth-of-type(2)).wallet-cart-grid:not(:has(>.wallet-cart-button-container:nth-of-type(3))) .wallet-cart-button-container:first-child {\n",
      "    margin-top: 0;\n",
      "  }\n",
      "  .wallet-cart-grid:has(>.wallet-cart-button-container:nth-of-type(2)).wallet-cart-grid:not(:has(>.wallet-cart-button-container:nth-of-type(3))) .wallet-cart-button {\n",
      "    width: var(--wallet-button-width-vertical);\n",
      "    height: var(--wallet-button-height-vertical);\n",
      "  }\n",
      "}\n",
      "\n",
      "@container dcc (width <= 470px) {\n",
      "  .wallet-cart-grid:has(>.wallet-cart-button-container:nth-of-type(3)).wallet-cart-grid:not(:has(>.wallet-cart-button-container:nth-of-type(4))) {\n",
      "    justify-content: start;\n",
      "    flex-direction: column;\n",
      "    margin: 0;\n",
      "  }\n",
      "  .wallet-cart-grid:has(>.wallet-cart-button-container:nth-of-type(3)).wallet-cart-grid:not(:has(>.wallet-cart-button-container:nth-of-type(4))) .wallet-cart-button-container {\n",
      "    width: var(--wallet-button-width-vertical);\n",
      "    height: var(--wallet-button-height-vertical);\n",
      "    margin: var(--wallet-button-container-margin-vertical);\n",
      "  }\n",
      "  .wallet-cart-grid:has(>.wallet-cart-button-container:nth-of-type(3)).wallet-cart-grid:not(:has(>.wallet-cart-button-container:nth-of-type(4))) .wallet-cart-button-container:first-child {\n",
      "    margin-top: 0;\n",
      "  }\n",
      "  .wallet-cart-grid:has(>.wallet-cart-button-container:nth-of-type(3)).wallet-cart-grid:not(:has(>.wallet-cart-button-container:nth-of-type(4))) .wallet-cart-button {\n",
      "    width: var(--wallet-button-width-vertical);\n",
      "    height: var(--wallet-button-height-vertical);\n",
      "  }\n",
      "}\n",
      "\n",
      "@container dcc (width <= 630px) {\n",
      "  .wallet-cart-grid:has(>.wallet-cart-button-container:nth-of-type(4)).wallet-cart-grid:not(:has(>.wallet-cart-button-container:nth-of-type(5))) {\n",
      "    justify-content: start;\n",
      "    flex-direction: column;\n",
      "    margin: 0;\n",
      "  }\n",
      "  .wallet-cart-grid:has(>.wallet-cart-button-container:nth-of-type(4)).wallet-cart-grid:not(:has(>.wallet-cart-button-container:nth-of-type(5))) .wallet-cart-button-container {\n",
      "    width: var(--wallet-button-width-vertical);\n",
      "    height: var(--wallet-button-height-vertical);\n",
      "    margin: var(--wallet-button-container-margin-vertical);\n",
      "  }\n",
      "  .wallet-cart-grid:has(>.wallet-cart-button-container:nth-of-type(4)).wallet-cart-grid:not(:has(>.wallet-cart-button-container:nth-of-type(5))) .wallet-cart-button-container:first-child {\n",
      "    margin-top: 0;\n",
      "  }\n",
      "  .wallet-cart-grid:has(>.wallet-cart-button-container:nth-of-type(4)).wallet-cart-grid:not(:has(>.wallet-cart-button-container:nth-of-type(5))) .wallet-cart-button {\n",
      "    width: var(--wallet-button-width-vertical);\n",
      "    height: var(--wallet-button-height-vertical);\n",
      "  }\n",
      "}\n",
      "\n",
      "@container dcc (width <= 790px) {\n",
      "  .wallet-cart-grid:has(>.wallet-cart-button-container:nth-of-type(5)).wallet-cart-grid:not(:has(>.wallet-cart-button-container:nth-of-type(6))) {\n",
      "    justify-content: start;\n",
      "    flex-direction: column;\n",
      "    margin: 0;\n",
      "  }\n",
      "  .wallet-cart-grid:has(>.wallet-cart-button-container:nth-of-type(5)).wallet-cart-grid:not(:has(>.wallet-cart-button-container:nth-of-type(6))) .wallet-cart-button-container {\n",
      "    width: var(--wallet-button-width-vertical);\n",
      "    height: var(--wallet-button-height-vertical);\n",
      "    margin: var(--wallet-button-container-margin-vertical);\n",
      "  }\n",
      "  .wallet-cart-grid:has(>.wallet-cart-button-container:nth-of-type(5)).wallet-cart-grid:not(:has(>.wallet-cart-button-container:nth-of-type(6))) .wallet-cart-button-container:first-child {\n",
      "    margin-top: 0;\n",
      "  }\n",
      "  .wallet-cart-grid:has(>.wallet-cart-button-container:nth-of-type(5)).wallet-cart-grid:not(:has(>.wallet-cart-button-container:nth-of-type(6))) .wallet-cart-button {\n",
      "    width: var(--wallet-button-width-vertical);\n",
      "    height: var(--wallet-button-height-vertical);\n",
      "  }\n",
      "}\n",
      "\n",
      ".wallet-cart-grid:has(>.wallet-cart-button-container:nth-of-type(6)) {\n",
      "  justify-content: start;\n",
      "  flex-direction: column;\n",
      "  margin: 0;\n",
      "}\n",
      ".wallet-cart-grid:has(>.wallet-cart-button-container:nth-of-type(6)) .wallet-cart-button-container {\n",
      "  width: var(--wallet-button-width-vertical);\n",
      "  height: var(--wallet-button-height-vertical);\n",
      "  margin: var(--wallet-button-container-margin-vertical);\n",
      "}\n",
      ".wallet-cart-grid:has(>.wallet-cart-button-container:nth-of-type(6)) .wallet-cart-button-container:first-child {\n",
      "  margin-top: 0;\n",
      "}\n",
      ".wallet-cart-grid:has(>.wallet-cart-button-container:nth-of-type(6)) .wallet-cart-button {\n",
      "  width: var(--wallet-button-width-vertical);\n",
      "  height: var(--wallet-button-height-vertical);\n",
      "}\n",
      "\n",
      "@media screen and (max-width: 750px) {\n",
      "  .wallet-cart-grid {\n",
      "    justify-content: start;\n",
      "    flex-direction: column;\n",
      "    max-width: none;\n",
      "    margin: 0;\n",
      "  }\n",
      "  .wallet-cart-grid .wallet-cart-button-container {\n",
      "    max-width: none;\n",
      "    width: var(--wallet-button-width-vertical);\n",
      "    height: var(--wallet-button-height-vertical);\n",
      "    margin: var(--wallet-button-container-margin-vertical);\n",
      "  }\n",
      "  .wallet-cart-grid .wallet-cart-button-container:first-child {\n",
      "    margin-top: 0;\n",
      "  }\n",
      "  .wallet-cart-grid .wallet-cart-button {\n",
      "    width: var(--wallet-button-width-vertical);\n",
      "    height: var(--wallet-button-height-vertical);\n",
      "  }\n",
      "}\n",
      "\n",
      "@supports (not (container-type: inline-size)) or (not (selector(:has(*)))) {\n",
      "  .wallet-cart-grid {\n",
      "    justify-content: start;\n",
      "    flex-direction: column;\n",
      "    margin: 0;\n",
      "  }\n",
      "  .wallet-cart-button-container {\n",
      "    width: var(--wallet-button-width-vertical);\n",
      "    height: var(--wallet-button-height-vertical);\n",
      "    margin: var(--wallet-button-container-margin-vertical);\n",
      "  }\n",
      "  .wallet-cart-button-container:first-child {\n",
      "    margin-top: 0;\n",
      "  }\n",
      "  .wallet-cart-grid .wallet-cart-button {\n",
      "    width: var(--wallet-button-width-vertical);\n",
      "    height: var(--wallet-button-height-vertical);\n",
      "  }\n",
      "}\n",
      "\n",
      "        #shopify-buyer-consent {\n",
      "  margin-top: 1em;\n",
      "  display: inline-block;\n",
      "  width: 100%;\n",
      "}\n",
      "\n",
      "#shopify-buyer-consent.hidden {\n",
      "  display: none;\n",
      "}\n",
      "\n",
      "#shopify-subscription-policy-button {\n",
      "  background: none;\n",
      "  border: none;\n",
      "  padding: 0;\n",
      "  text-decoration: underline;\n",
      "  font-size: inherit;\n",
      "  cursor: pointer;\n",
      "}\n",
      "\n",
      "#shopify-subscription-policy-button::before {\n",
      "  box-shadow: none;\n",
      "}\n"
     ]
    }
   ],
   "source": [
    "\n",
    "\n",
    "# Find the element with a string containing \"#\"\n",
    "sku_element = soup.find(string=lambda text: text and \"#\" in text)\n",
    "if sku_element:\n",
    "    sku = sku_element.strip()\n",
    "else:\n",
    "    sku = \"\"\n",
    "\n",
    "print(\"SKU value:\", sku)\n"
   ]
  },
  {
   "cell_type": "code",
   "execution_count": 17,
   "metadata": {},
   "outputs": [
    {
     "name": "stdout",
     "output_type": "stream",
     "text": [
      "SKU value: MGEM#812LIFT-SFIV\n"
     ]
    }
   ],
   "source": [
    "from bs4 import BeautifulSoup\n",
    "\n",
    "html_content = \"\"\"\n",
    "<p>\n",
    "  <b>\n",
    "    <em>\n",
    "      Cover:\n",
    "    </em>\n",
    "  </b>\n",
    "  Soft Ivory\n",
    "  <br/>\n",
    "  <b>\n",
    "    <em>\n",
    "      Material:\n",
    "    </em>\n",
    "  </b>\n",
    "  90% Polyester 10% PU (W)\n",
    "  <br/>\n",
    "  <em>\n",
    "    <strong>\n",
    "      SKU:&nbsp;\n",
    "    </strong>\n",
    "  </em>\n",
    "  MGEM#812LIFT-SFIV\n",
    "</p>\n",
    "\"\"\"\n",
    "\n",
    "soup1 = BeautifulSoup(html_content, \"html.parser\")\n",
    "\n",
    "# Find the element with a string containing \"#\" only in <p> tags\n",
    "sku_element = soup1.find(string=lambda text: text and \"#\" in text and text.find_parent(\"p\"))\n",
    "if sku_element:\n",
    "    sku = sku_element.strip()\n",
    "else:\n",
    "    sku = \"\"\n",
    "\n",
    "print(\"SKU value:\", sku)\n"
   ]
  },
  {
   "cell_type": "code",
   "execution_count": 25,
   "metadata": {},
   "outputs": [
    {
     "name": "stdout",
     "output_type": "stream",
     "text": [
      "SKU value: MGEM#812LIFT-SFIV\n"
     ]
    }
   ],
   "source": [
    "# Find the element with a string containing \"#\" only in <p> tags\n",
    "sku_element = soup1.find(string=lambda text: text and \"#\" in text and text.find_parent(\"p\"))\n",
    "if sku_element:\n",
    "    sku = sku_element.strip()\n",
    "else:\n",
    "    sku = \"\"\n",
    "\n",
    "print(\"SKU value:\", sku)"
   ]
  },
  {
   "cell_type": "code",
   "execution_count": 30,
   "metadata": {},
   "outputs": [
    {
     "name": "stdout",
     "output_type": "stream",
     "text": [
      "SKU value: \n"
     ]
    }
   ],
   "source": [
    "sku = \"\"\n",
    "\n",
    "# Find all <p> tags\n",
    "for p_tag in soup.find_all(\"p\"):\n",
    "    # Check for a string containing \"#\"\n",
    "    sku_element = p_tag.find(string=lambda text: text and \"#\" in text)\n",
    "    if sku_element:\n",
    "        sku = sku_element.strip()\n",
    "        break  # Stop once the first match is found\n",
    "\n",
    "    # Check for <span> inside <p> containing \"#\"\n",
    "    span_element = p_tag.find(\"span\", string=lambda text: text and \"#\" in text)\n",
    "    if span_element:\n",
    "        sku = span_element.text.strip()\n",
    "        break  # Stop once the first match is found\n",
    "\n",
    "print(\"SKU value:\", sku)"
   ]
  },
  {
   "cell_type": "code",
   "execution_count": 36,
   "metadata": {},
   "outputs": [
    {
     "name": "stdout",
     "output_type": "stream",
     "text": [
      "No SKU found on the page.\n"
     ]
    }
   ],
   "source": [
    "sku = next(\n",
    "        (text.strip() for p in soup.find_all(\"p\") for text in p.stripped_strings if \"#\" in text),\n",
    "        None\n",
    "    )\n",
    "\n",
    "if sku:\n",
    "    print(\"SKU value:\", sku)\n",
    "else:\n",
    "    print(\"No SKU found on the page.\")"
   ]
  },
  {
   "cell_type": "code",
   "execution_count": 37,
   "metadata": {},
   "outputs": [
    {
     "name": "stdout",
     "output_type": "stream",
     "text": [
      "SKU value: **MPRM-PACKB(H)-MDE SET\n"
     ]
    }
   ],
   "source": [
    "sku = next(\n",
    "        (text.strip() for p in soup.find_all(\"p\") for text in p.stripped_strings if \"**\" in text),\n",
    "        None\n",
    "    )\n",
    "\n",
    "if sku:\n",
    "    print(\"SKU value:\", sku)\n",
    "else:\n",
    "    print(\"No SKU found on the page.\")"
   ]
  },
  {
   "cell_type": "code",
   "execution_count": 38,
   "metadata": {},
   "outputs": [],
   "source": [
    "import re\n"
   ]
  },
  {
   "cell_type": "code",
   "execution_count": 39,
   "metadata": {},
   "outputs": [
    {
     "name": "stdout",
     "output_type": "stream",
     "text": [
      "SKU value: SKU:\n"
     ]
    }
   ],
   "source": [
    "pattern = r\"[A-Z\\-()0-9]+\"\n",
    "\n",
    "# Find the first <p> tag that contains a string matching the SKU pattern\n",
    "sku = next(\n",
    "    (text.strip() for p in soup.find_all(\"p\") for text in p.stripped_strings if re.search(pattern, text)),\n",
    "    None\n",
    ")\n",
    "\n",
    "if sku:\n",
    "    print(\"SKU value:\", sku)\n",
    "else:\n",
    "    print(\"No SKU found on the page.\")"
   ]
  },
  {
   "cell_type": "code",
   "execution_count": 17,
   "metadata": {},
   "outputs": [
    {
     "name": "stderr",
     "output_type": "stream",
     "text": [
      "/tmp/ipykernel_14129/3433690609.py:2: DeprecationWarning: The 'text' argument to find()-type methods is deprecated. Use 'string' instead.\n",
      "  color_id = soup.find(\"a\", text ='Color')\n"
     ]
    }
   ],
   "source": [
    "try:\n",
    "    color_id = soup.find(\"a\", text ='Color')\n",
    "    if color_id:\n",
    "        color_id = color_id.get(\"href\").replace(\"#\", \"\")\n",
    "        color = soup.find(\"div\", id =color_id)\n",
    "    \n",
    "except AttributeError:\n",
    "    color = \"\""
   ]
  },
  {
   "cell_type": "code",
   "execution_count": 18,
   "metadata": {},
   "outputs": [
    {
     "data": {
      "text/plain": [
       "<div id=\"tabs-4\">\n",
       "<p><b><em>Cover: </em></b>Magic Denim<br/><b><em>Material: </em></b>100% Polyester (W)<br/><br/></p>\n",
       "</div>"
      ]
     },
     "execution_count": 18,
     "metadata": {},
     "output_type": "execute_result"
    }
   ],
   "source": [
    "color."
   ]
  },
  {
   "cell_type": "code",
   "execution_count": 23,
   "metadata": {},
   "outputs": [],
   "source": [
    "material = \"\"\n",
    "finish =\"\""
   ]
  },
  {
   "cell_type": "code",
   "execution_count": 24,
   "metadata": {},
   "outputs": [
    {
     "name": "stderr",
     "output_type": "stream",
     "text": [
      "/tmp/ipykernel_14129/3427521897.py:3: DeprecationWarning: The 'text' argument to find()-type methods is deprecated. Use 'string' instead.\n",
      "  finish_em = color.find(\"em\", text=\"Finish:\")\n",
      "/tmp/ipykernel_14129/3427521897.py:10: DeprecationWarning: The 'text' argument to find()-type methods is deprecated. Use 'string' instead.\n",
      "  material_em = color.find(\"em\", text=\"Material:\")\n"
     ]
    }
   ],
   "source": [
    "if color:\n",
    "    # Extract Finish\n",
    "    finish_em = color.find(\"em\", text=\"Finish:\")\n",
    "    if finish_em:\n",
    "        finish_b = finish_em.find_parent(\"b\")\n",
    "        if finish_b:\n",
    "            finish = finish_b.next_sibling.strip() if finish_b.next_sibling else \"\"\n",
    "\n",
    "    # Extract Material\n",
    "    material_em = color.find(\"em\", text=\"Material:\")\n",
    "    if material_em:\n",
    "        material_b = material_em.find_parent(\"b\")\n",
    "        if material_b:\n",
    "            \n",
    "            material_span = material_b.find_next(\"span\")\n",
    "            if material_span:\n",
    "                material = material_span.text.strip()\n",
    "            else:\n",
    "                material = material_b.next_sibling.strip() if material_b.next_sibling else \"\"\n"
   ]
  },
  {
   "cell_type": "code",
   "execution_count": 25,
   "metadata": {},
   "outputs": [
    {
     "data": {
      "text/plain": [
       "''"
      ]
     },
     "execution_count": 25,
     "metadata": {},
     "output_type": "execute_result"
    }
   ],
   "source": [
    "material"
   ]
  },
  {
   "cell_type": "code",
   "execution_count": 33,
   "metadata": {},
   "outputs": [
    {
     "name": "stdout",
     "output_type": "stream",
     "text": [
      "Finish: \n",
      "Material: \n"
     ]
    },
    {
     "name": "stderr",
     "output_type": "stream",
     "text": [
      "/tmp/ipykernel_14129/1052212269.py:2: DeprecationWarning: The 'text' argument to find()-type methods is deprecated. Use 'string' instead.\n",
      "  color_id = soup.find(\"a\", text=\"Color\")\n",
      "/tmp/ipykernel_14129/1052212269.py:17: DeprecationWarning: The 'text' argument to find()-type methods is deprecated. Use 'string' instead.\n",
      "  finish_em = color.find(\"em\", text=\"Finish:\")\n",
      "/tmp/ipykernel_14129/1052212269.py:27: DeprecationWarning: The 'text' argument to find()-type methods is deprecated. Use 'string' instead.\n",
      "  material_em = color.find(\"em\", text=\"Material:\")\n"
     ]
    }
   ],
   "source": [
    "try:\n",
    "    color_id = soup.find(\"a\", text=\"Color\")\n",
    "    if color_id:\n",
    "        color_id = color_id.get(\"href\").replace(\"#\", \"\")\n",
    "        color = soup.find(\"div\", id=color_id)\n",
    "    else:\n",
    "        color = None\n",
    "except AttributeError:\n",
    "    color = None\n",
    "\n",
    "material = \"\"\n",
    "finish = \"\"\n",
    "\n",
    "if color:\n",
    "    # Extract Finish\n",
    "    try:\n",
    "        finish_em = color.find(\"em\", text=\"Finish:\")\n",
    "        if finish_em:\n",
    "            finish_b = finish_em.find_parent(\"b\")\n",
    "            if finish_b:\n",
    "                finish = finish_b.next_sibling.strip() if finish_b.next_sibling else \"\"\n",
    "    except AttributeError:\n",
    "        finish = \"\"\n",
    "\n",
    "    # Extract Material\n",
    "    try:\n",
    "        material_em = color.find(\"em\", text=\"Material:\")\n",
    "        if material_em:\n",
    "            material_b = material_em.find_parent(\"b\")\n",
    "            if material_b:\n",
    "                # Check for span or sibling text\n",
    "                material_span = material_b.find_next(\"span\")\n",
    "                if material_span:\n",
    "                    material = material_span.text.strip()\n",
    "                else:\n",
    "                    material = material_b.next_sibling.strip() if material_b.next_sibling else \"\"\n",
    "    except AttributeError:\n",
    "        material = \"\"\n",
    "\n",
    "# Print results for verification\n",
    "print(\"Finish:\", finish)\n",
    "print(\"Material:\", material)\n"
   ]
  },
  {
   "cell_type": "code",
   "execution_count": 41,
   "metadata": {},
   "outputs": [
    {
     "name": "stderr",
     "output_type": "stream",
     "text": [
      "/tmp/ipykernel_14129/3374418741.py:2: DeprecationWarning: The 'text' argument to find()-type methods is deprecated. Use 'string' instead.\n",
      "  color_id = soup.find(\"a\", text=\"Color\")\n"
     ]
    }
   ],
   "source": [
    "try:\n",
    "    color_id = soup.find(\"a\", text=\"Color\")\n",
    "    if color_id:\n",
    "        color_id = color_id.get(\"href\").replace(\"#\", \"\")\n",
    "        color = soup.find(\"div\", id=color_id)\n",
    "    else:\n",
    "        color = None\n",
    "except AttributeError:\n",
    "    color = None"
   ]
  },
  {
   "cell_type": "code",
   "execution_count": 42,
   "metadata": {},
   "outputs": [
    {
     "data": {
      "text/plain": [
       "<div id=\"tabs-4\">\n",
       "<p><b><em>Cover: </em></b>Magic Denim<br/><b><em>Material: </em></b>100% Polyester (W)<br/><br/></p>\n",
       "</div>"
      ]
     },
     "execution_count": 42,
     "metadata": {},
     "output_type": "execute_result"
    }
   ],
   "source": [
    "color"
   ]
  },
  {
   "cell_type": "code",
   "execution_count": 43,
   "metadata": {},
   "outputs": [
    {
     "name": "stdout",
     "output_type": "stream",
     "text": [
      "Material: Add to Cart\n"
     ]
    },
    {
     "name": "stderr",
     "output_type": "stream",
     "text": [
      "/tmp/ipykernel_14129/303116303.py:2: DeprecationWarning: The 'text' argument to find()-type methods is deprecated. Use 'string' instead.\n",
      "  finish = color.find(\"em\", text=\"Finish: \").find_parent(\"b\").next_sibling.strip()\n",
      "/tmp/ipykernel_14129/303116303.py:8: DeprecationWarning: The 'text' argument to find()-type methods is deprecated. Use 'string' instead.\n",
      "  material_em = color.find(\"em\", text=\"Material: \")\n"
     ]
    }
   ],
   "source": [
    "try:\n",
    "    finish = color.find(\"em\", text=\"Finish: \").find_parent(\"b\").next_sibling.strip()\n",
    "    print(\"Finish : \", finish)\n",
    "except (AttributeError, IndexError):\n",
    "    finish = \"\"\n",
    "\n",
    "try:\n",
    "    material_em = color.find(\"em\", text=\"Material: \")\n",
    "    if material_em:\n",
    "        material_b = material_em.find_parent(\"b\")\n",
    "        if material_b:\n",
    "            material_span = material_b.find_next(\"span\")\n",
    "            if material_span:\n",
    "                material = material_span.text.strip()\n",
    "            else:\n",
    "                material = material_b.next_sibling.strip()\n",
    "        else:\n",
    "            material = \"\"\n",
    "    else:\n",
    "        material = \"\"\n",
    "    print(\"Material:\", material)\n",
    "except (AttributeError, IndexError):\n",
    "    material = \"\""
   ]
  },
  {
   "cell_type": "code",
   "execution_count": 44,
   "metadata": {},
   "outputs": [
    {
     "data": {
      "text/plain": [
       "''"
      ]
     },
     "execution_count": 44,
     "metadata": {},
     "output_type": "execute_result"
    }
   ],
   "source": [
    "finish"
   ]
  },
  {
   "cell_type": "code",
   "execution_count": 47,
   "metadata": {},
   "outputs": [],
   "source": [
    "color = color.find(\"p\")"
   ]
  },
  {
   "cell_type": "code",
   "execution_count": 48,
   "metadata": {},
   "outputs": [
    {
     "data": {
      "text/plain": [
       "<p><b><em>Cover: </em></b>Magic Denim<br/><b><em>Material: </em></b>100% Polyester (W)<br/><br/></p>"
      ]
     },
     "execution_count": 48,
     "metadata": {},
     "output_type": "execute_result"
    }
   ],
   "source": [
    "color"
   ]
  },
  {
   "cell_type": "code",
   "execution_count": 50,
   "metadata": {},
   "outputs": [
    {
     "data": {
      "text/plain": [
       "'Cover:\\xa0Magic DenimMaterial: 100% Polyester (W)'"
      ]
     },
     "execution_count": 50,
     "metadata": {},
     "output_type": "execute_result"
    }
   ],
   "source": [
    "color.get_text()"
   ]
  },
  {
   "cell_type": "code",
   "execution_count": 49,
   "metadata": {},
   "outputs": [
    {
     "name": "stdout",
     "output_type": "stream",
     "text": [
      "Finish: \n",
      "Material: \n"
     ]
    },
    {
     "name": "stderr",
     "output_type": "stream",
     "text": [
      "/tmp/ipykernel_14129/647401977.py:2: DeprecationWarning: The 'text' argument to find()-type methods is deprecated. Use 'string' instead.\n",
      "  color_id = soup.find(\"a\", text=\"Color\")\n",
      "/tmp/ipykernel_14129/647401977.py:21: DeprecationWarning: The 'text' argument to find()-type methods is deprecated. Use 'string' instead.\n",
      "  finish_em = color.find(\"em\", text=\"Finish:\")\n",
      "/tmp/ipykernel_14129/647401977.py:28: DeprecationWarning: The 'text' argument to find()-type methods is deprecated. Use 'string' instead.\n",
      "  material_em = color.find(\"em\", text=\"Material:\")\n"
     ]
    }
   ],
   "source": [
    "try:\n",
    "    color_id = soup.find(\"a\", text=\"Color\")\n",
    "    if color_id:\n",
    "        color_id = color_id.get(\"href\").replace(\"#\", \"\")\n",
    "        color = soup.find(\"div\", id=color_id)\n",
    "    else:\n",
    "        color = None\n",
    "except AttributeError:\n",
    "    color = None\n",
    "\n",
    "# Extract the first <p> tag within the `color` div\n",
    "if color:\n",
    "    color = color.find(\"p\")\n",
    "\n",
    "    color.replace(\"</em>\", \" \").replace(\"<em>\", \" \").replce(\"<br/>\", \" \").replace(\"\")\n",
    "\n",
    "# Initialize variables\n",
    "finish = \"\"\n",
    "material = \"\"\n",
    "\n",
    "if color:\n",
    "    # Extract Finish\n",
    "    finish_em = color.find(\"em\", text=\"Finish:\")\n",
    "    if finish_em:\n",
    "        finish_b = finish_em.find_parent(\"b\")\n",
    "        if finish_b:\n",
    "            finish = finish_b.next_sibling.strip() if finish_b.next_sibling else \"\"\n",
    "\n",
    "    # Extract Material\n",
    "    material_em = color.find(\"em\", text=\"Material:\")\n",
    "    if material_em:\n",
    "        material_b = material_em.find_parent(\"b\")\n",
    "        if material_b:\n",
    "            material = material_b.next_sibling.strip() if material_b.next_sibling else \"\"\n",
    "\n",
    "# Print results\n",
    "print(\"Finish:\", finish)\n",
    "print(\"Material:\", material)\n"
   ]
  },
  {
   "cell_type": "code",
   "execution_count": null,
   "metadata": {},
   "outputs": [],
   "source": [
    "\n",
    " #Checks if the sku is rendered the normal way, and gets its value \n",
    "if response.css('p.sku span') :\n",
    "sku = response.css('p.sku span::text').get()\n",
    "print('The Product SKU is: ', sku)\n",
    "\n",
    "#Searches for a <p> tag that has the text 'SKU:' in it then extracts the value of the SKU\n",
    "else:\n",
    "tabs_text = response.css('div#tabs div p').getall()\n",
    "sku_p_tag = None\n",
    "for p_tag in tabs_text:\n",
    "    if 'SKU:' in p_tag:\n",
    "        sku_p_tag = p_tag\n",
    "        break\n",
    "if sku_p_tag:\n",
    "    sku_cleaned = sku_p_tag.replace('<p>', '').replace('</p>', '') \\\n",
    "                    .replace('<b>', '').replace('</b>', '') \\\n",
    "                    .replace('<em>', '').replace('</em>', '') \\\n",
    "                    .replace('<span>', '').replace('</span>', '') \\\n",
    "                    .replace('<strong>', '').replace('</strong>', '') \\\n",
    "                    .strip()\n",
    "    if '<br>' in sku_cleaned:\n",
    "        sku_cleaned = sku_cleaned.split('<br>')[-1].strip()\n",
    "\n",
    "    sku = sku_cleaned.replace('SKU:', '').strip()\n",
    "    print('The Product SKU is: ', sku)"
   ]
  },
  {
   "cell_type": "code",
   "execution_count": null,
   "metadata": {},
   "outputs": [],
   "source": [
    "\n",
    " #Checks if the sku is rendered the normal way, and gets its value \n",
    "if response.css('p.sku span') :\n",
    "sku = response.css('p.sku span::text').get()\n",
    "print('The Product SKU is: ', sku)\n",
    "\n",
    "#Searches for a <p> tag that has the text 'SKU:' in it then extracts the value of the SKU\n",
    "else:\n",
    "tabs_text = response.css('div#tabs div p').getall()\n",
    "sku_p_tag = None\n",
    "for p_tag in tabs_text:\n",
    "    if 'SKU:' in p_tag:\n",
    "        sku_p_tag = p_tag\n",
    "        break\n",
    "if sku_p_tag:\n",
    "    sku_cleaned = sku_p_tag.replace('<p>', '').replace('</p>', '') \\\n",
    "                    .replace('<b>', '').replace('</b>', '') \\\n",
    "                    .replace('<em>', '').replace('</em>', '') \\\n",
    "                    .replace('<span>', '').replace('</span>', '') \\\n",
    "                    .replace('<strong>', '').replace('</strong>', '') \\\n",
    "                    .strip()\n",
    "    if '<br>' in sku_cleaned:\n",
    "        sku_cleaned = sku_cleaned.split('<br>')[-1].strip()\n",
    "\n",
    "    sku = sku_cleaned.replace('SKU:', '').strip()\n",
    "    print('The Product SKU is: ', sku)"
   ]
  },
  {
   "cell_type": "code",
   "execution_count": null,
   "metadata": {},
   "outputs": [],
   "source": [
    "\n",
    " #Checks if the sku is rendered the normal way, and gets its value \n",
    "if response.css('p.sku span') :\n",
    "sku = response.css('p.sku span::text').get()\n",
    "print('The Product SKU is: ', sku)\n",
    "\n",
    "#Searches for a <p> tag that has the text 'SKU:' in it then extracts the value of the SKU\n",
    "else:\n",
    "tabs_text = response.css('div#tabs div p').getall()\n",
    "sku_p_tag = None\n",
    "for p_tag in tabs_text:\n",
    "    if 'SKU:' in p_tag:\n",
    "        sku_p_tag = p_tag\n",
    "        break\n",
    "if sku_p_tag:\n",
    "    sku_cleaned = sku_p_tag.replace('<p>', '').replace('</p>', '') \\\n",
    "                    .replace('<b>', '').replace('</b>', '') \\\n",
    "                    .replace('<em>', '').replace('</em>', '') \\\n",
    "                    .replace('<span>', '').replace('</span>', '') \\\n",
    "                    .replace('<strong>', '').replace('</strong>', '') \\\n",
    "                    .strip()\n",
    "    if '<br>' in sku_cleaned:\n",
    "        sku_cleaned = sku_cleaned.split('<br>')[-1].strip()\n",
    "\n",
    "    sku = sku_cleaned.replace('SKU:', '').strip()\n",
    "    print('The Product SKU is: ', sku)"
   ]
  },
  {
   "cell_type": "code",
   "execution_count": null,
   "metadata": {},
   "outputs": [],
   "source": []
  },
  {
   "cell_type": "code",
   "execution_count": null,
   "metadata": {},
   "outputs": [],
   "source": []
  },
  {
   "cell_type": "code",
   "execution_count": null,
   "metadata": {},
   "outputs": [],
   "source": []
  },
  {
   "cell_type": "code",
   "execution_count": null,
   "metadata": {},
   "outputs": [],
   "source": [
    "<p><b><em>Cover: </em></b>Magic Denim<br/><b><em>Material: </em></b>100% Polyester (W)<br/><br/></p>\n"
   ]
  },
  {
   "cell_type": "code",
   "execution_count": 55,
   "metadata": {},
   "outputs": [
    {
     "name": "stdout",
     "output_type": "stream",
     "text": [
      "Finish: Light Washed Natural\n",
      "Material: <span data-mce-fragment=\"1\">Solid Mango with Bone Inlay  </p>\n"
     ]
    },
    {
     "name": "stderr",
     "output_type": "stream",
     "text": [
      "/tmp/ipykernel_14129/851684526.py:2: DeprecationWarning: The 'text' argument to find()-type methods is deprecated. Use 'string' instead.\n",
      "  color_id = soup.find(\"a\", text=\"Color\")\n"
     ]
    }
   ],
   "source": [
    "try:\n",
    "    color_id = soup.find(\"a\", text=\"Color\")\n",
    "    if color_id:\n",
    "        color_id = color_id.get(\"href\").replace(\"#\", \"\")\n",
    "        color = soup.find(\"div\", id=color_id)\n",
    "    else:\n",
    "        color = None\n",
    "except AttributeError:\n",
    "    color = None\n",
    "\n",
    "# Initialize variables\n",
    "finish = \"\"\n",
    "material = \"\"\n",
    "\n",
    "# Extract the first <p> tag and clean its content\n",
    "if color:\n",
    "    p_tag = color.find(\"p\")\n",
    "    if p_tag:\n",
    "        # Clean the HTML content\n",
    "        raw_text = str(p_tag).replace(\"</em>\", \" \").replace(\"<em>\", \" \").replace(\"<br/>\", \" \").replace(\"<br>\", \" \").replace(\"<b>\", \"\").replace(\"</b>\", \"\").replace(\"<span>\", \"\").replace(\"</span>\", \"\").strip()\n",
    "\n",
    "        # Extract Finish\n",
    "        if \"Finish:\" in raw_text:\n",
    "            finish_start = raw_text.find(\"Finish:\") + len(\"Finish:\")\n",
    "            finish_end = raw_text.find(\"Material:\") if \"Material:\" in raw_text else len(raw_text)\n",
    "            finish = raw_text[finish_start:finish_end].strip()\n",
    "\n",
    "        # Extract Material\n",
    "        if \"Material:\" in raw_text:\n",
    "            material_start = raw_text.find(\"Material:\") + len(\"Material:\")\n",
    "            material_end = raw_text.find(\"Also Available In:\") if \"Also Available In:\" in raw_text else len(raw_text)\n",
    "            material = raw_text[material_start:material_end].strip()\n",
    "\n",
    "# Print results\n",
    "print(\"Finish:\", finish)\n",
    "print(\"Material:\", material)\n"
   ]
  },
  {
   "cell_type": "code",
   "execution_count": 56,
   "metadata": {},
   "outputs": [
    {
     "name": "stdout",
     "output_type": "stream",
     "text": [
      "Finish: Light Washed Natural\n",
      "Material: Solid Mango with Bone Inlay\n"
     ]
    },
    {
     "name": "stderr",
     "output_type": "stream",
     "text": [
      "/tmp/ipykernel_14129/1716176131.py:4: DeprecationWarning: The 'text' argument to find()-type methods is deprecated. Use 'string' instead.\n",
      "  color_id = soup.find(\"a\", text=\"Color\")\n"
     ]
    }
   ],
   "source": [
    "import re\n",
    "\n",
    "try:\n",
    "    color_id = soup.find(\"a\", text=\"Color\")\n",
    "    if color_id:\n",
    "        color_id = color_id.get(\"href\").replace(\"#\", \"\")\n",
    "        color = soup.find(\"div\", id=color_id)\n",
    "    else:\n",
    "        color = None\n",
    "except AttributeError:\n",
    "    color = None\n",
    "\n",
    "# Initialize variables\n",
    "finish = \"\"\n",
    "material = \"\"\n",
    "\n",
    "# Extract the first <p> tag and clean its content\n",
    "if color:\n",
    "    p_tag = color.find(\"p\")\n",
    "    if p_tag:\n",
    "        # Convert the <p> tag to a string\n",
    "        raw_text = str(p_tag)\n",
    "        \n",
    "        # Remove all HTML tags and their attributes using regex\n",
    "        clean_text = re.sub(r\"<[^>]*>\", \" \", raw_text)\n",
    "        clean_text = re.sub(r\"\\s+\", \" \", clean_text).strip()  # Normalize whitespace\n",
    "\n",
    "        # Extract Finish\n",
    "        if \"Finish:\" in clean_text:\n",
    "            finish_start = clean_text.find(\"Finish:\") + len(\"Finish:\")\n",
    "            finish_end = clean_text.find(\"Material:\") if \"Material:\" in clean_text else len(clean_text)\n",
    "            finish = clean_text[finish_start:finish_end].strip()\n",
    "\n",
    "        # Extract Material\n",
    "        if \"Material:\" in clean_text:\n",
    "            material_start = clean_text.find(\"Material:\") + len(\"Material:\")\n",
    "            material_end = clean_text.find(\"Also Available In:\") if \"Also Available In:\" in clean_text else len(clean_text)\n",
    "            material = clean_text[material_start:material_end].strip()\n",
    "\n",
    "# Print results\n",
    "print(\"Finish:\", finish)\n",
    "print(\"Material:\", material)\n"
   ]
  },
  {
   "cell_type": "code",
   "execution_count": 71,
   "metadata": {},
   "outputs": [
    {
     "name": "stdout",
     "output_type": "stream",
     "text": [
      "Finish: \n",
      "Material: 90% Polyester 10% PU (W)\n"
     ]
    },
    {
     "name": "stderr",
     "output_type": "stream",
     "text": [
      "/tmp/ipykernel_14129/767834174.py:4: DeprecationWarning: The 'text' argument to find()-type methods is deprecated. Use 'string' instead.\n",
      "  color_id = soup.find(\"a\", text=\"Color\")\n"
     ]
    }
   ],
   "source": [
    "import re\n",
    "\n",
    "try:\n",
    "    color_id = soup.find(\"a\", text=\"Color\")\n",
    "    if color_id:\n",
    "        color_id = color_id.get(\"href\").replace(\"#\", \"\")\n",
    "        color = soup.find(\"div\", id=color_id)\n",
    "    else:\n",
    "        color = None\n",
    "except AttributeError:\n",
    "    color = None\n",
    "\n",
    "# Initialize variables\n",
    "finish = \"\"\n",
    "material = \"\"\n",
    "\n",
    "# Extract the first <p> tag and clean its content\n",
    "if color:\n",
    "    p_tag = color.find(\"p\")\n",
    "    if p_tag:\n",
    "        # Convert the <p> tag to a string\n",
    "        raw_text = str(p_tag)\n",
    "        \n",
    "        # Remove all HTML tags and their attributes using regex\n",
    "        clean_text = re.sub(r\"<[^>]*>\", \" \", raw_text)\n",
    "        \n",
    "        # Remove SKU and its associated content\n",
    "        clean_text = re.sub(r\"SKU:\\s*\\S+\", \" \", clean_text, flags=re.IGNORECASE)\n",
    "        \n",
    "        # Normalize whitespace\n",
    "        clean_text = re.sub(r\"\\s+\", \" \", clean_text).strip()\n",
    "\n",
    "        # Extract Finish\n",
    "        if \"Finish:\" in clean_text:\n",
    "            finish_start = clean_text.find(\"Finish:\") + len(\"Finish:\")\n",
    "            finish_end = clean_text.find(\"Material:\") if \"Material:\" in clean_text else len(clean_text)\n",
    "            finish = clean_text[finish_start:finish_end].strip()\n",
    "\n",
    "        # Extract Material\n",
    "        if \"Material:\" in clean_text:\n",
    "            material_start = clean_text.find(\"Material:\") + len(\"Material:\")\n",
    "            material_end = clean_text.find(\"Also Available In:\") if \"Also Available In:\" in clean_text else len(clean_text)\n",
    "            material = clean_text[material_start:material_end].strip()\n",
    "\n",
    "# Print results\n",
    "print(\"Finish:\", finish)\n",
    "print(\"Material:\", material)\n"
   ]
  },
  {
   "cell_type": "code",
   "execution_count": null,
   "metadata": {},
   "outputs": [],
   "source": []
  },
  {
   "cell_type": "code",
   "execution_count": 72,
   "metadata": {},
   "outputs": [
    {
     "name": "stdout",
     "output_type": "stream",
     "text": [
      "The Product SKU is: MGEM#812LIFT-SFIV\n"
     ]
    }
   ],
   "source": [
    "sku_p_tag = None\n",
    "for p_tag in soup.find_all(\"p\"):\n",
    "    if \"SKU:\" in p_tag.get_text():\n",
    "        sku_p_tag = p_tag\n",
    "        break\n",
    "if sku_p_tag:\n",
    "    cleaned_text = re.sub(r\"<[^>]*>\", \" \", str(sku_p_tag))\n",
    "    cleaned_text = re.sub(r\"\\s+\", \" \", cleaned_text).strip()\n",
    "    match = re.search(r\"SKU:\\s*(\\S+)\", cleaned_text, flags=re.IGNORECASE)\n",
    "    if match:\n",
    "        sku = match.group(1).strip()\n",
    "        print('The Product SKU is:', sku)\n",
    "    else:\n",
    "        sku = None\n",
    "        print(\"SKU not found.\")\n",
    "else:\n",
    "    sku = None\n",
    "    print(\"SKU not found in the HTML.\")\n"
   ]
  }
 ],
 "metadata": {
  "kernelspec": {
   "display_name": "Python 3",
   "language": "python",
   "name": "python3"
  },
  "language_info": {
   "codemirror_mode": {
    "name": "ipython",
    "version": 3
   },
   "file_extension": ".py",
   "mimetype": "text/x-python",
   "name": "python",
   "nbconvert_exporter": "python",
   "pygments_lexer": "ipython3",
   "version": "3.8.10"
  }
 },
 "nbformat": 4,
 "nbformat_minor": 2
}
